{
 "cells": [
  {
   "cell_type": "code",
   "execution_count": 1,
   "id": "c1d91191",
   "metadata": {},
   "outputs": [],
   "source": [
    "import numpy as np\n",
    "import pandas as pd\n",
    "import matplotlib.pyplot as plt\n",
    "import seaborn as sns\n",
    "import warnings\n",
    "warnings.filterwarnings(\"ignore\")\n",
    "from datetime import datetime"
   ]
  },
  {
   "cell_type": "code",
   "execution_count": 2,
   "id": "f61d6bac",
   "metadata": {},
   "outputs": [],
   "source": [
    "fullset = pd.read_csv('C:/Users/psh/Desktop/fullset.csv', encoding = 'cp949')"
   ]
  },
  {
   "cell_type": "code",
   "execution_count": 3,
   "id": "fe9e6bb2",
   "metadata": {},
   "outputs": [],
   "source": [
    "fullset = fullset.drop(['Unnamed: 0'], axis=1)"
   ]
  },
  {
   "cell_type": "code",
   "execution_count": 4,
   "id": "96fafb83",
   "metadata": {},
   "outputs": [
    {
     "name": "stdout",
     "output_type": "stream",
     "text": [
      "<class 'pandas.core.frame.DataFrame'>\n",
      "RangeIndex: 13519862 entries, 0 to 13519861\n",
      "Data columns (total 66 columns):\n",
      " #   Column                       Dtype  \n",
      "---  ------                       -----  \n",
      " 0   loan_limit                   float64\n",
      " 1   loan_rate                    float64\n",
      " 2   credit_score                 float64\n",
      " 3   app_count                    float64\n",
      " 4   birth_year                   float64\n",
      " 5   employed_time                float64\n",
      " 6   credit_score_em_mean         float64\n",
      " 7   credit_score_em_std          float64\n",
      " 8   credit_score_hm_mean         float64\n",
      " 9   credit_score_hm_std          float64\n",
      " 10  credit_score_rh_mean         float64\n",
      " 11  credit_score_rh_std          float64\n",
      " 12  credit_score_in_mean         float64\n",
      " 13  desired_amount_pp_mean       float64\n",
      " 14  desired_amount_pp_std        float64\n",
      " 15  yearly_income_in_mean        float64\n",
      " 16  yearly_income_in_std         float64\n",
      " 17  yearly_income_em_mean        float64\n",
      " 18  yearly_income_em_std         float64\n",
      " 19  DSR                          float64\n",
      " 20  regulation                   float64\n",
      " 21  limit_desired_diff           float64\n",
      " 22  loan_limit_app_min           float64\n",
      " 23  loan_limit_app_median        float64\n",
      " 24  loan_limit_app_max           float64\n",
      " 25  loan_rate_app_min            float64\n",
      " 26  loan_rate_app_median         float64\n",
      " 27  loan_rate_app_max            float64\n",
      " 28  loan_limit_pp_max            float64\n",
      " 29  loan_rate_bank_mean          float64\n",
      " 30  loan_rate_product_min        float64\n",
      " 31  loan_rate_product_mean       float64\n",
      " 32  loan_rate_product_max        float64\n",
      " 33  loan_limit_product_min       float64\n",
      " 34  loan_limit_product_mean      float64\n",
      " 35  loan_limit_product_max       float64\n",
      " 36  gender_M                     int64  \n",
      " 37  gender_U                     int64  \n",
      " 38  income_type_EARNEDINCOME2    int64  \n",
      " 39  income_type_FREELANCER       int64  \n",
      " 40  income_type_OTHERINCOME      int64  \n",
      " 41  income_type_PRACTITIONER     int64  \n",
      " 42  income_type_PRIVATEBUSINESS  int64  \n",
      " 43  employment_type_계약직          int64  \n",
      " 44  employment_type_일용직          int64  \n",
      " 45  employment_type_정규직          int64  \n",
      " 46  houseown_type_배우자            int64  \n",
      " 47  houseown_type_자가             int64  \n",
      " 48  houseown_type_전월세            int64  \n",
      " 49  purpose_BUYCAR               int64  \n",
      " 50  purpose_BUYHOUSE             int64  \n",
      " 51  purpose_ETC                  int64  \n",
      " 52  purpose_HOUSEDEPOSIT         int64  \n",
      " 53  purpose_INVEST               int64  \n",
      " 54  purpose_LIVING               int64  \n",
      " 55  purpose_SWITCHLOAN           int64  \n",
      " 56  rehab_group_B                int64  \n",
      " 57  rehab_group_C                int64  \n",
      " 58  rehab_group_D                int64  \n",
      " 59  loan_group_2                 int64  \n",
      " 60  loan_group_3                 int64  \n",
      " 61  loan_group_4                 int64  \n",
      " 62  KCB_rank                     float64\n",
      " 63  income_ranking               float64\n",
      " 64  is_applied                   float64\n",
      " 65  Month                        int64  \n",
      "dtypes: float64(39), int64(27)\n",
      "memory usage: 6.6 GB\n"
     ]
    }
   ],
   "source": [
    "fullset.info()"
   ]
  },
  {
   "cell_type": "code",
   "execution_count": 22,
   "id": "376ae8b0",
   "metadata": {},
   "outputs": [],
   "source": [
    "df_train = fullset[(fullset['Month']== 3)|(fullset['Month']== 4)] \n",
    "df_vali = fullset[fullset['Month']== 5] \n",
    "df_test = fullset[fullset['Month']== 6] "
   ]
  },
  {
   "cell_type": "code",
   "execution_count": 23,
   "id": "a6648931",
   "metadata": {},
   "outputs": [],
   "source": [
    "df_train = df_train.drop(['Month'],axis=1)"
   ]
  },
  {
   "cell_type": "code",
   "execution_count": 24,
   "id": "012b8108",
   "metadata": {},
   "outputs": [],
   "source": [
    "df_vali = df_vali.drop(['Month'],axis=1)"
   ]
  },
  {
   "cell_type": "code",
   "execution_count": 25,
   "id": "2c0035b2",
   "metadata": {},
   "outputs": [],
   "source": [
    "df_test = df_test.drop(['Month'],axis=1)"
   ]
  },
  {
   "cell_type": "code",
   "execution_count": 26,
   "id": "15eb096a",
   "metadata": {},
   "outputs": [
    {
     "data": {
      "text/plain": [
       "loan_limit        0\n",
       "loan_rate         0\n",
       "credit_score      0\n",
       "app_count         0\n",
       "birth_year        0\n",
       "                 ..\n",
       "loan_group_3      0\n",
       "loan_group_4      0\n",
       "KCB_rank          0\n",
       "income_ranking    0\n",
       "is_applied        0\n",
       "Length: 65, dtype: int64"
      ]
     },
     "execution_count": 26,
     "metadata": {},
     "output_type": "execute_result"
    }
   ],
   "source": [
    "df_train.isnull().sum()"
   ]
  },
  {
   "cell_type": "code",
   "execution_count": 27,
   "id": "8994db21",
   "metadata": {},
   "outputs": [],
   "source": [
    "df_train_x = df_train.drop(['is_applied'],axis=1)\n",
    "df_train_y = df_train[['is_applied']]"
   ]
  },
  {
   "cell_type": "code",
   "execution_count": 28,
   "id": "ebfc75d0",
   "metadata": {},
   "outputs": [],
   "source": [
    "df_vali_x  = df_vali.drop(['is_applied'],axis=1)\n",
    "df_vali_y  = df_vali[['is_applied']]"
   ]
  },
  {
   "cell_type": "code",
   "execution_count": 29,
   "id": "9ee9b7b8",
   "metadata": {},
   "outputs": [],
   "source": [
    "df_test_x  = df_test.drop(['is_applied'],axis=1)\n",
    "df_test_y  = df_test[['is_applied']]"
   ]
  },
  {
   "cell_type": "markdown",
   "id": "b970ae3e",
   "metadata": {},
   "source": [
    "# 샘플링 전 모델링(xgboost와 logistic을 이용해 샘플링 기법 선정)"
   ]
  },
  {
   "cell_type": "markdown",
   "id": "20c66a87",
   "metadata": {},
   "source": [
    "## 원데이터"
   ]
  },
  {
   "cell_type": "code",
   "execution_count": 43,
   "id": "08b1d2b1",
   "metadata": {},
   "outputs": [],
   "source": [
    "#성능평가 \n",
    "from sklearn.metrics import confusion_matrix ,accuracy_score, precision_score, recall_score, f1_score, roc_auc_score\n",
    "def get_clf_eval(y_test,pred=None,pred_prova=None):\n",
    "    confusion = confusion_matrix(y_test, pred)\n",
    "    accuracy = accuracy_score(y_test, pred)\n",
    "    precision = precision_score(y_test, pred)\n",
    "    recall = recall_score(y_test, pred)\n",
    "    f1 = f1_score(y_test, pred)\n",
    "    roc_auc = roc_auc_score(y_test, pred_prova)\n",
    "    print('오차행렬')\n",
    "    print(confusion)\n",
    "    print('정확도 :{0:4f}, 정밀도 :{1:4f}, 재현율 :{2:4f}, f1-score :{3:4f}, AUC :{4:4f}'\n",
    "          .format(accuracy, precision, recall, f1, roc_auc))"
   ]
  },
  {
   "cell_type": "code",
   "execution_count": 44,
   "id": "6465aeab",
   "metadata": {},
   "outputs": [],
   "source": [
    "#파라미터 튜닝용 그리드 서치\n",
    "from sklearn.model_selection import GridSearchCV\n",
    "from sklearn.svm import SVC"
   ]
  },
  {
   "cell_type": "code",
   "execution_count": 45,
   "id": "946a9d46",
   "metadata": {},
   "outputs": [],
   "source": [
    "from sklearn.linear_model import LogisticRegression\n",
    "from sklearn.ensemble import RandomForestClassifier"
   ]
  },
  {
   "cell_type": "code",
   "execution_count": 46,
   "id": "527cbb37",
   "metadata": {},
   "outputs": [],
   "source": [
    "logreg = LogisticRegression()\n",
    "logreg.fit(df_train_x, df_train_y)\n",
    "pred = logreg.predict(df_vali_x)"
   ]
  },
  {
   "cell_type": "code",
   "execution_count": 47,
   "id": "44eac865",
   "metadata": {
    "scrolled": true
   },
   "outputs": [
    {
     "name": "stdout",
     "output_type": "stream",
     "text": [
      "오차행렬\n",
      "[[3281576   11952]\n",
      " [ 178932   13369]]\n",
      "정확도 :0.945240, 정밀도 :0.527981, 재현율 :0.069521, f1-score :0.122864, AUC :0.870928\n"
     ]
    }
   ],
   "source": [
    "pred_proba = logreg.predict_proba(df_vali_x)[:,1]\n",
    "get_clf_eval(df_vali_y, pred, pred_proba)"
   ]
  },
  {
   "cell_type": "code",
   "execution_count": 54,
   "id": "c8460561",
   "metadata": {},
   "outputs": [
    {
     "name": "stdout",
     "output_type": "stream",
     "text": [
      "오차행렬\n",
      "[[3348338   27858]\n",
      " [ 163142   37979]]\n",
      "정확도 :0.946608, 정밀도 :0.576864, 재현율 :0.188837, f1-score :0.284532, AUC :0.914780\n"
     ]
    }
   ],
   "source": [
    "xgb_clf = XGBClassifier()\n",
    "xgb_clf.fit(df_train_x, df_train_y)\n",
    "pred = xgb_clf.predict(df_vali_x)\n",
    "pred_proba = xgb_clf.predict_proba(df_vali_x)[:, 1]\n",
    "get_clf_eval(df_vali_y, pred, pred_proba)"
   ]
  },
  {
   "cell_type": "markdown",
   "id": "5785bf5e",
   "metadata": {},
   "source": [
    "## random over sampling"
   ]
  },
  {
   "cell_type": "code",
   "execution_count": 48,
   "id": "366ace33",
   "metadata": {},
   "outputs": [],
   "source": [
    "from imblearn.under_sampling import RandomUnderSampler\n",
    "from imblearn.over_sampling import RandomOverSampler\n",
    "from imblearn.over_sampling import SMOTE\n",
    "from imblearn.over_sampling import ADASYN"
   ]
  },
  {
   "cell_type": "code",
   "execution_count": 49,
   "id": "b5d97091",
   "metadata": {},
   "outputs": [
    {
     "name": "stdout",
     "output_type": "stream",
     "text": [
      "오버샘플링 이전 0.0    6520566\n",
      "1.0     356424\n",
      "Name: is_applied, dtype: int64\n",
      "오버샘플링 이후 0.0    6520566\n",
      "1.0    1956169\n",
      "Name: is_applied, dtype: int64\n"
     ]
    }
   ],
   "source": [
    "oversample = RandomOverSampler(sampling_strategy = 0.3, random_state = 42)\n",
    "x_train_over, y_train_over = oversample.fit_resample(df_train_x, df_train_y)\n",
    "print(\"오버샘플링 이전\", df_train_y['is_applied'].value_counts())\n",
    "print(\"오버샘플링 이후\", y_train_over['is_applied'].value_counts())"
   ]
  },
  {
   "cell_type": "code",
   "execution_count": 50,
   "id": "a177eca4",
   "metadata": {},
   "outputs": [],
   "source": [
    "logreg = LogisticRegression()\n",
    "logreg.fit(x_train_over, y_train_over)\n",
    "pred = logreg.predict(df_vali_x)"
   ]
  },
  {
   "cell_type": "code",
   "execution_count": 51,
   "id": "62b483e1",
   "metadata": {
    "scrolled": true
   },
   "outputs": [
    {
     "name": "stdout",
     "output_type": "stream",
     "text": [
      "오차행렬\n",
      "[[3036166  257362]\n",
      " [  88053  104248]]\n",
      "정확도 :0.900909, 정밀도 :0.288288, 재현율 :0.542108, f1-score :0.376407, AUC :0.871226\n"
     ]
    }
   ],
   "source": [
    "pred_proba = logreg.predict_proba(df_vali_x)[:,1]\n",
    "get_clf_eval(df_vali_y, pred, pred_proba)"
   ]
  },
  {
   "cell_type": "code",
   "execution_count": 54,
   "id": "cb31d324",
   "metadata": {
    "scrolled": true
   },
   "outputs": [
    {
     "name": "stdout",
     "output_type": "stream",
     "text": [
      "오차행렬\n",
      "[[3123215  252981]\n",
      " [  71147  129974]]\n",
      "정확도 :0.909394, 정밀도 :0.339398, 재현율 :0.646248, f1-score :0.445059, AUC :0.914874\n"
     ]
    }
   ],
   "source": [
    "xgb_clf = XGBClassifier()\n",
    "xgb_clf.fit(x_train_over, y_train_over)\n",
    "pred = xgb_clf.predict(df_vali_x)\n",
    "pred_proba = xgb_clf.predict_proba(df_vali_x)[:, 1]\n",
    "get_clf_eval(df_vali_y, pred, pred_proba)"
   ]
  },
  {
   "cell_type": "markdown",
   "id": "d0d1c8b8",
   "metadata": {},
   "source": [
    "## SMOTE"
   ]
  },
  {
   "cell_type": "code",
   "execution_count": 52,
   "id": "7d1f2697",
   "metadata": {},
   "outputs": [
    {
     "name": "stdout",
     "output_type": "stream",
     "text": [
      "오버샘플링 이전 0.0    6520566\n",
      "1.0     356424\n",
      "Name: is_applied, dtype: int64\n",
      "오버샘플링 이후 0.0    6520566\n",
      "1.0    1956169\n",
      "Name: is_applied, dtype: int64\n"
     ]
    }
   ],
   "source": [
    "smote = SMOTE(sampling_strategy = 0.3, random_state = 42)\n",
    "x_train_smote, y_train_smote = oversample.fit_resample(df_train_x, df_train_y)\n",
    "print(\"오버샘플링 이전\", df_train_y['is_applied'].value_counts())\n",
    "print(\"오버샘플링 이후\", y_train_smote['is_applied'].value_counts())"
   ]
  },
  {
   "cell_type": "code",
   "execution_count": 53,
   "id": "10230906",
   "metadata": {},
   "outputs": [],
   "source": [
    "logreg = LogisticRegression()\n",
    "logreg.fit(x_train_smote, y_train_smote)\n",
    "pred = logreg.predict(df_vali_x)"
   ]
  },
  {
   "cell_type": "code",
   "execution_count": 54,
   "id": "9f182ad6",
   "metadata": {
    "scrolled": true
   },
   "outputs": [
    {
     "name": "stdout",
     "output_type": "stream",
     "text": [
      "오차행렬\n",
      "[[3036166  257362]\n",
      " [  88053  104248]]\n",
      "정확도 :0.900909, 정밀도 :0.288288, 재현율 :0.542108, f1-score :0.376407, AUC :0.871226\n"
     ]
    }
   ],
   "source": [
    "pred_proba = logreg.predict_proba(df_vali_x)[:,1]\n",
    "get_clf_eval(df_vali_y, pred, pred_proba)"
   ]
  },
  {
   "cell_type": "code",
   "execution_count": 54,
   "id": "3c62e0c4",
   "metadata": {},
   "outputs": [
    {
     "name": "stdout",
     "output_type": "stream",
     "text": [
      "오차행렬\n",
      "[[3123215  252981]\n",
      " [  71147  129974]]\n",
      "정확도 :0.909394, 정밀도 :0.339398, 재현율 :0.646248, f1-score :0.445059, AUC :0.914874\n"
     ]
    }
   ],
   "source": [
    "xgb_clf = XGBClassifier()\n",
    "xgb_clf.fit(x_train_smote, y_train_smote)\n",
    "pred = xgb_clf.predict(df_vali_x)\n",
    "pred_proba = xgb_clf.predict_proba(df_vali_x)[:, 1]\n",
    "get_clf_eval(df_vali_y, pred, pred_proba)"
   ]
  },
  {
   "cell_type": "markdown",
   "id": "52598993",
   "metadata": {},
   "source": [
    "## ADASYN"
   ]
  },
  {
   "cell_type": "code",
   "execution_count": 55,
   "id": "fa720783",
   "metadata": {
    "scrolled": false
   },
   "outputs": [
    {
     "name": "stdout",
     "output_type": "stream",
     "text": [
      "오버샘플링 이전 0.0    6520566\n",
      "1.0     356424\n",
      "Name: is_applied, dtype: int64\n",
      "오버샘플링 이후 0.0    6520566\n",
      "1.0    1956169\n",
      "Name: is_applied, dtype: int64\n"
     ]
    }
   ],
   "source": [
    "adasyn = ADASYN(sampling_strategy = 0.3, random_state = 42)\n",
    "x_train_ad, y_train_ad = oversample.fit_resample(df_train_x, df_train_y)\n",
    "print(\"오버샘플링 이전\", df_train_y['is_applied'].value_counts())\n",
    "print(\"오버샘플링 이후\", y_train_ad['is_applied'].value_counts())"
   ]
  },
  {
   "cell_type": "code",
   "execution_count": 56,
   "id": "2374981f",
   "metadata": {},
   "outputs": [],
   "source": [
    "logreg = LogisticRegression()\n",
    "logreg.fit(x_train_ad, y_train_ad)\n",
    "pred = logreg.predict(df_vali_x)"
   ]
  },
  {
   "cell_type": "code",
   "execution_count": 57,
   "id": "05ca1059",
   "metadata": {
    "scrolled": true
   },
   "outputs": [
    {
     "name": "stdout",
     "output_type": "stream",
     "text": [
      "오차행렬\n",
      "[[3036166  257362]\n",
      " [  88053  104248]]\n",
      "정확도 :0.900909, 정밀도 :0.288288, 재현율 :0.542108, f1-score :0.376407, AUC :0.871226\n"
     ]
    }
   ],
   "source": [
    "pred_proba = logreg.predict_proba(df_vali_x)[:,1]\n",
    "get_clf_eval(df_vali_y, pred, pred_proba)"
   ]
  },
  {
   "cell_type": "code",
   "execution_count": 77,
   "id": "3c0f32ea",
   "metadata": {},
   "outputs": [
    {
     "name": "stdout",
     "output_type": "stream",
     "text": [
      "오차행렬\n",
      "[[3348107   28089]\n",
      " [ 166034   35087]]\n",
      "정확도 :0.945735, 정밀도 :0.555385, 재현율 :0.174457, f1-score :0.265512, AUC :0.909012\n"
     ]
    }
   ],
   "source": [
    "xgb_clf = XGBClassifier()\n",
    "xgb_clf.fit(x_train_ad, y_train_ad)\n",
    "pred = xgb_clf.predict(df_vali_x)\n",
    "pred_proba = xgb_clf.predict_proba(df_vali_x)[:, 1]\n",
    "get_clf_eval(df_vali_y, pred, pred_proba)"
   ]
  },
  {
   "cell_type": "markdown",
   "id": "e2f06767",
   "metadata": {},
   "source": [
    "### Sampling기법 RandomOverSampling 선정"
   ]
  },
  {
   "cell_type": "markdown",
   "id": "e92957fb",
   "metadata": {},
   "source": [
    "# Random Over Sampling 이후 사용 모델"
   ]
  },
  {
   "cell_type": "markdown",
   "id": "4dc13bfa",
   "metadata": {},
   "source": [
    "## Logistic 회귀"
   ]
  },
  {
   "cell_type": "code",
   "execution_count": 19,
   "id": "cedaaa77",
   "metadata": {},
   "outputs": [
    {
     "name": "stdout",
     "output_type": "stream",
     "text": [
      "오차행렬\n",
      "[[3123215  252981]\n",
      " [  71147  129974]]\n",
      "정확도 :0.909394, 정밀도 :0.339398, 재현율 :0.646248, f1-score :0.445059, AUC :0.914874\n"
     ]
    }
   ],
   "source": [
    "xgb_clf = XGBClassifier()\n",
    "xgb_clf.fit(x_train_over, y_train_over)\n",
    "xgb_clfpred = xgb_clf.predict(df_vali_x)\n",
    "xgb_clfpred_proba = xgb_clf.predict_proba(df_vali_x)[:, 1]\n",
    "get_clf_eval(df_vali_y, xgb_clfpred, xgb_clfpred_proba)"
   ]
  },
  {
   "cell_type": "markdown",
   "id": "a73dc378",
   "metadata": {},
   "source": [
    "## XGBoost"
   ]
  },
  {
   "cell_type": "code",
   "execution_count": 19,
   "id": "450d733a",
   "metadata": {},
   "outputs": [
    {
     "name": "stdout",
     "output_type": "stream",
     "text": [
      "오차행렬\n",
      "[[3123215  252981]\n",
      " [  71147  129974]]\n",
      "정확도 :0.909394, 정밀도 :0.339398, 재현율 :0.646248, f1-score :0.445059, AUC :0.914874\n"
     ]
    }
   ],
   "source": [
    "xgb_clf = XGBClassifier()\n",
    "xgb_clf.fit(x_train_over, y_train_over)\n",
    "xgb_clfpred = xgb_clf.predict(df_vali_x)\n",
    "xgb_clfpred_proba = xgb_clf.predict_proba(df_vali_x)[:, 1]\n",
    "get_clf_eval(df_vali_y, xgb_clfpred, xgb_clfpred_proba)"
   ]
  },
  {
   "cell_type": "markdown",
   "id": "4336478d",
   "metadata": {},
   "source": [
    "## LGBM"
   ]
  },
  {
   "cell_type": "code",
   "execution_count": 20,
   "id": "c4220746",
   "metadata": {
    "scrolled": true
   },
   "outputs": [
    {
     "name": "stdout",
     "output_type": "stream",
     "text": [
      "오차행렬\n",
      "[[3126411  249785]\n",
      " [  73535  127586]]\n",
      "정확도 :0.909619, 정밀도 :0.338092, 재현율 :0.634374, f1-score :0.441099, AUC :0.912124\n"
     ]
    }
   ],
   "source": [
    "lgbm = LGBMClassifier()\n",
    "lgbm.fit(x_train_over, y_train_over)\n",
    "lgbmpred = lgbm.predict(df_vali_x)\n",
    "lgbmpred_proba = lgbm.predict_proba(df_vali_x)[:, 1]\n",
    "get_clf_eval(df_vali_y, lgbmpred, lgbmpred_proba)"
   ]
  },
  {
   "cell_type": "markdown",
   "id": "ff07cdc3",
   "metadata": {},
   "source": [
    "## ADABoost"
   ]
  },
  {
   "cell_type": "code",
   "execution_count": 21,
   "id": "37316714",
   "metadata": {},
   "outputs": [
    {
     "name": "stdout",
     "output_type": "stream",
     "text": [
      "오차행렬\n",
      "[[3114577  261619]\n",
      " [  89407  111714]]\n",
      "정확도 :0.901875, 정밀도 :0.299234, 재현율 :0.555457, f1-score :0.388940, AUC :0.882081\n"
     ]
    }
   ],
   "source": [
    "ada = AdaBoostClassifier()\n",
    "ada.fit(x_train_over, y_train_over)\n",
    "adapred = ada.predict(df_vali_x)\n",
    "adapred_proba = ada.predict_proba(df_vali_x)[:, 1]\n",
    "get_clf_eval(df_vali_y, adapred, adapred_proba)"
   ]
  },
  {
   "cell_type": "markdown",
   "id": "6e766930",
   "metadata": {},
   "source": [
    "## GBM"
   ]
  },
  {
   "cell_type": "code",
   "execution_count": 22,
   "id": "586bbb08",
   "metadata": {},
   "outputs": [
    {
     "name": "stdout",
     "output_type": "stream",
     "text": [
      "오차행렬\n",
      "[[3166072  210124]\n",
      " [  89228  111893]]\n",
      "정확도 :0.916319, 정밀도 :0.347475, 재현율 :0.556347, f1-score :0.427776, AUC :0.899694\n"
     ]
    }
   ],
   "source": [
    "gbm = GradientBoostingClassifier()\n",
    "gbm.fit(x_train_over, y_train_over)\n",
    "gbmpred = gbm.predict(df_vali_x)\n",
    "gbmpred_proba = gbm.predict_proba(df_vali_x)[:, 1]\n",
    "get_clf_eval(df_vali_y, gbmpred, gbmpred_proba)"
   ]
  },
  {
   "cell_type": "markdown",
   "id": "ca6b207b",
   "metadata": {},
   "source": [
    "# DNN"
   ]
  },
  {
   "cell_type": "code",
   "execution_count": 19,
   "id": "5e72213e",
   "metadata": {},
   "outputs": [],
   "source": [
    "import tensorflow as tf\n",
    "from keras.models import Sequential, load_model\n",
    "from keras.callbacks import Callback,ModelCheckpoint\n",
    "from keras.layers import Dense, Dropout\n",
    "from keras.wrappers.scikit_learn import KerasClassifier\n",
    "import keras.backend as K"
   ]
  },
  {
   "cell_type": "code",
   "execution_count": 20,
   "id": "7fe19b1c",
   "metadata": {},
   "outputs": [],
   "source": [
    "#f1-score 출력\n",
    "def get_f1_1(y_true, y_pred): #taken from old keras source code\n",
    "    true_positives = K.sum(K.round(K.clip(y_true * y_pred, 0, 1)))\n",
    "    possible_positives = K.sum(K.round(K.clip(y_true, 0, 1)))\n",
    "    predicted_positives = K.sum(K.round(K.clip(y_pred, 0, 1)))\n",
    "    precision = true_positives / (predicted_positives + K.epsilon())\n",
    "    recall = true_positives / (possible_positives + K.epsilon())\n",
    "    f1_val = 2*(precision*recall)/(precision+recall+K.epsilon())\n",
    "    return f1_val"
   ]
  },
  {
   "cell_type": "code",
   "execution_count": 21,
   "id": "c530349e",
   "metadata": {},
   "outputs": [],
   "source": [
    "#데이터 어레이로 만들기\n",
    "x_train_over_1 = np.array(x_train_over)\n",
    "y_train_over_1 = np.array(y_train_over)\n",
    "df_vali_x_1 = np.array(df_vali_x)\n",
    "df_vali_y_1 = np.array(df_vali_y)"
   ]
  },
  {
   "cell_type": "code",
   "execution_count": 26,
   "id": "43ae4003",
   "metadata": {},
   "outputs": [
    {
     "name": "stdout",
     "output_type": "stream",
     "text": [
      "Model: \"sequential_2\"\n",
      "_________________________________________________________________\n",
      " Layer (type)                Output Shape              Param #   \n",
      "=================================================================\n",
      " dense_6 (Dense)             (None, 16)                1024      \n",
      "                                                                 \n",
      " dense_7 (Dense)             (None, 4)                 68        \n",
      "                                                                 \n",
      " dense_8 (Dense)             (None, 1)                 5         \n",
      "                                                                 \n",
      "=================================================================\n",
      "Total params: 1,097\n",
      "Trainable params: 1,097\n",
      "Non-trainable params: 0\n",
      "_________________________________________________________________\n"
     ]
    }
   ],
   "source": [
    "model = Sequential() # Sequeatial Model\n",
    "\n",
    "\n",
    "model.add(Dense(16,input_dim=63))\n",
    "model.add(Dense(4, activation='relu'))\n",
    "model.add(Dense(1, activation='sigmoid'))\n",
    "\n",
    "\n",
    "model.compile(loss='binary_crossentropy', optimizer='adam', metrics=[get_f1_1, 'accuracy'])\n",
    "model.summary()"
   ]
  },
  {
   "cell_type": "code",
   "execution_count": 27,
   "id": "ee0626c6",
   "metadata": {
    "scrolled": false
   },
   "outputs": [
    {
     "name": "stdout",
     "output_type": "stream",
     "text": [
      "Epoch 1/10\n",
      "236211/236211 [==============================] - 245s 1ms/step - loss: 0.3453 - get_f1: 0.5998 - accuracy: 0.8409 - val_loss: 0.2292 - val_get_f1: 0.2903 - val_accuracy: 0.9013\n",
      "Epoch 2/10\n",
      "236211/236211 [==============================] - 241s 1ms/step - loss: 0.3419 - get_f1: 0.6090 - accuracy: 0.8443 - val_loss: 0.2363 - val_get_f1: 0.3013 - val_accuracy: 0.9015\n",
      "Epoch 3/10\n",
      "236211/236211 [==============================] - 238s 1ms/step - loss: 0.3394 - get_f1: 0.6160 - accuracy: 0.8467 - val_loss: 0.2353 - val_get_f1: 0.3053 - val_accuracy: 0.9001\n",
      "Epoch 4/10\n",
      "236211/236211 [==============================] - 244s 1ms/step - loss: 0.3389 - get_f1: 0.6170 - accuracy: 0.8469 - val_loss: 0.2492 - val_get_f1: 0.3044 - val_accuracy: 0.8941\n",
      "Epoch 5/10\n",
      "236211/236211 [==============================] - 242s 1ms/step - loss: 0.3387 - get_f1: 0.6178 - accuracy: 0.8472 - val_loss: 0.2411 - val_get_f1: 0.3032 - val_accuracy: 0.8983\n",
      "Epoch 6/10\n",
      "236211/236211 [==============================] - 245s 1ms/step - loss: 0.3385 - get_f1: 0.6178 - accuracy: 0.8473 - val_loss: 0.2341 - val_get_f1: 0.3038 - val_accuracy: 0.9013\n",
      "Epoch 7/10\n",
      "236211/236211 [==============================] - 245s 1ms/step - loss: 0.3384 - get_f1: 0.6175 - accuracy: 0.8473 - val_loss: 0.2347 - val_get_f1: 0.3052 - val_accuracy: 0.9034\n",
      "Epoch 8/10\n",
      "236211/236211 [==============================] - 242s 1ms/step - loss: 0.3382 - get_f1: 0.6179 - accuracy: 0.8474 - val_loss: 0.2240 - val_get_f1: 0.3067 - val_accuracy: 0.9077\n",
      "Epoch 9/10\n",
      "236211/236211 [==============================] - 245s 1ms/step - loss: 0.3381 - get_f1: 0.6180 - accuracy: 0.8476 - val_loss: 0.2438 - val_get_f1: 0.3065 - val_accuracy: 0.9002\n",
      "Epoch 10/10\n",
      "236211/236211 [==============================] - 243s 1ms/step - loss: 0.3380 - get_f1: 0.6182 - accuracy: 0.8478 - val_loss: 0.2368 - val_get_f1: 0.3070 - val_accuracy: 0.9004\n"
     ]
    }
   ],
   "source": [
    "history = model.fit(x_train_over, y_train_over,\n",
    "                    epochs=10, batch_size=34, validation_data = (df_vali_x_1,df_vali_y_1))"
   ]
  },
  {
   "cell_type": "markdown",
   "id": "b1208544",
   "metadata": {},
   "source": [
    "### 최종 사용 모델 DNN제거"
   ]
  },
  {
   "cell_type": "markdown",
   "id": "d92cc8d9",
   "metadata": {},
   "source": [
    "# 하이퍼 파라미터 튜닝"
   ]
  },
  {
   "cell_type": "markdown",
   "id": "c930b3da",
   "metadata": {},
   "source": [
    "## Logistic회귀"
   ]
  },
  {
   "cell_type": "code",
   "execution_count": 26,
   "id": "d43cc72e",
   "metadata": {},
   "outputs": [],
   "source": [
    "from sklearn.model_selection import GridSearchCV\n",
    "from sklearn.linear_model import LogisticRegression"
   ]
  },
  {
   "cell_type": "code",
   "execution_count": 27,
   "id": "ab1c2654",
   "metadata": {},
   "outputs": [
    {
     "name": "stdout",
     "output_type": "stream",
     "text": [
      "Fitting 2 folds for each of 12 candidates, totalling 24 fits\n",
      "best parameters:  {'C': 1, 'max_iter': 50}\n",
      "best_score:  0.5803509098578514\n"
     ]
    }
   ],
   "source": [
    "clf = LogisticRegression()\n",
    "params = {\n",
    "        'C':[0.01,0.02,0.5,1],\n",
    "        'max_iter':[50,100,150]\n",
    "}\n",
    "grid_cv = GridSearchCV(clf, param_grid = params, cv=2, scoring='f1', verbose=1)\n",
    "grid_cv.fit(x_train_over,y_train_over)\n",
    "print('best parameters: ',grid_cv.best_params_)\n",
    "print('best_score: ',grid_cv.best_score_)"
   ]
  },
  {
   "cell_type": "code",
   "execution_count": 28,
   "id": "65472b1e",
   "metadata": {},
   "outputs": [],
   "source": [
    "clf = LogisticRegression(C=1,max_iter=50)\n",
    "clf.fit(x_train_over,y_train_over)\n",
    "pred = clf.predict(df_vali_x)"
   ]
  },
  {
   "cell_type": "code",
   "execution_count": 29,
   "id": "d8c3359f",
   "metadata": {},
   "outputs": [
    {
     "name": "stdout",
     "output_type": "stream",
     "text": [
      "오차행렬\n",
      "[[3122685  253511]\n",
      " [  93946  107175]]\n",
      "정확도 :0.902872, 정밀도 :0.297142, 재현율 :0.532888, f1-score :0.381537, AUC :0.873555\n"
     ]
    }
   ],
   "source": [
    "pred_proba = clf.predict_proba(df_vali_x)[:,1]\n",
    "get_clf_eval(df_vali_y, pred, pred_proba)"
   ]
  },
  {
   "cell_type": "code",
   "execution_count": 30,
   "id": "241be1fb",
   "metadata": {},
   "outputs": [
    {
     "name": "stdout",
     "output_type": "stream",
     "text": [
      "Fitting 2 folds for each of 4 candidates, totalling 8 fits\n",
      "best parameters:  {'C': 5, 'max_iter': 150}\n",
      "best_score:  0.5800472729623203\n"
     ]
    }
   ],
   "source": [
    "clf = LogisticRegression()\n",
    "params = {\n",
    "        'C':(1,5),\n",
    "        'max_iter':(100,150)\n",
    "}\n",
    "grid_cv = GridSearchCV(clf, param_grid = params, cv=2, scoring='f1', verbose=1)\n",
    "grid_cv.fit(x_train_over,y_train_over)\n",
    "print('best parameters: ',grid_cv.best_params_)\n",
    "print('best_score: ',grid_cv.best_score_)"
   ]
  },
  {
   "cell_type": "code",
   "execution_count": 31,
   "id": "4bb74368",
   "metadata": {},
   "outputs": [
    {
     "name": "stdout",
     "output_type": "stream",
     "text": [
      "Fitting 2 folds for each of 9 candidates, totalling 18 fits\n",
      "best parameters:  {'C': 2.5, 'max_iter': 150}\n",
      "best_score:  0.5800766414358016\n"
     ]
    }
   ],
   "source": [
    "clf = LogisticRegression()\n",
    "params = {\n",
    "        'C':(2.5,5,10),\n",
    "        'max_iter':(125,150,200)\n",
    "}\n",
    "grid_cv = GridSearchCV(clf, param_grid = params, cv=2, scoring='f1', verbose=1)\n",
    "grid_cv.fit(x_train_over,y_train_over)\n",
    "print('best parameters: ',grid_cv.best_params_)\n",
    "print('best_score: ',grid_cv.best_score_)"
   ]
  },
  {
   "cell_type": "code",
   "execution_count": 32,
   "id": "36428d9e",
   "metadata": {},
   "outputs": [],
   "source": [
    "clf = LogisticRegression(C=2.5,max_iter=150)\n",
    "clf.fit(x_train_over,y_train_over)\n",
    "pred = clf.predict(df_vali_x)"
   ]
  },
  {
   "cell_type": "code",
   "execution_count": 33,
   "id": "37a7331e",
   "metadata": {},
   "outputs": [
    {
     "name": "stdout",
     "output_type": "stream",
     "text": [
      "오차행렬\n",
      "[[3124824  251372]\n",
      " [  94378  106743]]\n",
      "정확도 :0.903349, 정밀도 :0.298069, 재현율 :0.530740, f1-score :0.381746, AUC :0.873673\n"
     ]
    }
   ],
   "source": [
    "pred_proba = clf.predict_proba(df_vali_x)[:,1]\n",
    "get_clf_eval(df_vali_y, pred, pred_proba)"
   ]
  },
  {
   "cell_type": "code",
   "execution_count": 34,
   "id": "05e353bb",
   "metadata": {},
   "outputs": [
    {
     "name": "stdout",
     "output_type": "stream",
     "text": [
      "Fitting 2 folds for each of 9 candidates, totalling 18 fits\n",
      "best parameters:  {'C': 2.5, 'max_iter': 150}\n",
      "best_score:  0.5800766414358016\n"
     ]
    }
   ],
   "source": [
    "clf = LogisticRegression()\n",
    "params = {\n",
    "        'C':(2,2.5,3),\n",
    "        'max_iter':(130,150,170)\n",
    "}\n",
    "grid_cv = GridSearchCV(clf, param_grid = params, cv=2, scoring='f1', verbose=1)\n",
    "grid_cv.fit(x_train_over,y_train_over)\n",
    "print('best parameters: ',grid_cv.best_params_)\n",
    "print('best_score: ',grid_cv.best_score_)"
   ]
  },
  {
   "cell_type": "code",
   "execution_count": 35,
   "id": "e89f1fa0",
   "metadata": {},
   "outputs": [
    {
     "name": "stdout",
     "output_type": "stream",
     "text": [
      "Fitting 2 folds for each of 9 candidates, totalling 18 fits\n",
      "best parameters:  {'C': 2.5, 'max_iter': 150}\n",
      "best_score:  0.5800766414358016\n"
     ]
    }
   ],
   "source": [
    "clf = LogisticRegression()\n",
    "params = {\n",
    "        'C':(2.25,2.5,2.75),\n",
    "        'max_iter':(145,150,155)\n",
    "}\n",
    "grid_cv = GridSearchCV(clf, param_grid = params, cv=2, scoring='f1', verbose=1)\n",
    "grid_cv.fit(x_train_over,y_train_over)\n",
    "print('best parameters: ',grid_cv.best_params_)\n",
    "print('best_score: ',grid_cv.best_score_)"
   ]
  },
  {
   "cell_type": "code",
   "execution_count": 36,
   "id": "ae36da67",
   "metadata": {},
   "outputs": [
    {
     "name": "stdout",
     "output_type": "stream",
     "text": [
      "Fitting 2 folds for each of 9 candidates, totalling 18 fits\n",
      "best parameters:  {'C': 2.6, 'max_iter': 148}\n",
      "best_score:  0.5800887435580614\n"
     ]
    }
   ],
   "source": [
    "clf = LogisticRegression()\n",
    "params = {\n",
    "        'C':(2.4,2.5,2.6),\n",
    "        'max_iter':(148,150,152)\n",
    "}\n",
    "grid_cv = GridSearchCV(clf, param_grid = params, cv=2, scoring='f1', verbose=1)\n",
    "grid_cv.fit(x_train_over,y_train_over)\n",
    "print('best parameters: ',grid_cv.best_params_)\n",
    "print('best_score: ',grid_cv.best_score_)"
   ]
  },
  {
   "cell_type": "code",
   "execution_count": 37,
   "id": "a74e841b",
   "metadata": {},
   "outputs": [],
   "source": [
    "clf = LogisticRegression(C=2.6,max_iter=148)\n",
    "clf.fit(x_train_over,y_train_over)\n",
    "pred = clf.predict(df_vali_x)"
   ]
  },
  {
   "cell_type": "code",
   "execution_count": 38,
   "id": "5182fa9a",
   "metadata": {},
   "outputs": [
    {
     "name": "stdout",
     "output_type": "stream",
     "text": [
      "오차행렬\n",
      "[[3124851  251345]\n",
      " [  94394  106727]]\n",
      "정확도 :0.903352, 정밀도 :0.298060, 재현율 :0.530661, f1-score :0.381718, AUC :0.873671\n"
     ]
    }
   ],
   "source": [
    "pred_proba = clf.predict_proba(df_vali_x)[:,1]\n",
    "get_clf_eval(df_vali_y, pred, pred_proba)"
   ]
  },
  {
   "cell_type": "code",
   "execution_count": 39,
   "id": "b36d5d0d",
   "metadata": {},
   "outputs": [],
   "source": [
    "clf = LogisticRegression(C=2.55,max_iter=149)\n",
    "clf.fit(x_train_over,y_train_over)\n",
    "pred = clf.predict(df_vali_x)"
   ]
  },
  {
   "cell_type": "code",
   "execution_count": 40,
   "id": "f5db1420",
   "metadata": {
    "scrolled": true
   },
   "outputs": [
    {
     "name": "stdout",
     "output_type": "stream",
     "text": [
      "오차행렬\n",
      "[[3124666  251530]\n",
      " [  94378  106743]]\n",
      "정확도 :0.903305, 정밀도 :0.297938, 재현율 :0.530740, f1-score :0.381638, AUC :0.873669\n"
     ]
    }
   ],
   "source": [
    "pred_proba = clf.predict_proba(df_vali_x)[:,1]\n",
    "get_clf_eval(df_vali_y, pred, pred_proba)"
   ]
  },
  {
   "cell_type": "markdown",
   "id": "1811127c",
   "metadata": {},
   "source": [
    "최종 파라미터 {'C': 2.5, 'max_iter': 150}"
   ]
  },
  {
   "cell_type": "markdown",
   "id": "6cd712ca",
   "metadata": {},
   "source": [
    "## XGBoost"
   ]
  },
  {
   "cell_type": "code",
   "execution_count": 20,
   "id": "a873b09a",
   "metadata": {},
   "outputs": [],
   "source": [
    "pbounds = {'max_depth': (10, 20),\n",
    "          'learning_rate': (0.01, 0.5),\n",
    "          'min_child_weight': (0.01,1000),\n",
    "          'subsample': (0.5, 1),\n",
    "          'colsample_bytree': (0.2, 1)}"
   ]
  },
  {
   "cell_type": "code",
   "execution_count": 21,
   "id": "a8c93012",
   "metadata": {},
   "outputs": [],
   "source": [
    "n_folds=4\n",
    "d_train = xgb.DMatrix(x_train_over, y_train_over)\n",
    "d_val = xgb.DMatrix(df_vali_x,df_vali_y)"
   ]
  },
  {
   "cell_type": "code",
   "execution_count": 22,
   "id": "c166d291",
   "metadata": {},
   "outputs": [
    {
     "data": {
      "text/plain": [
       "<xgboost.core.DMatrix at 0x2ad2d2cd3d0>"
      ]
     },
     "execution_count": 22,
     "metadata": {},
     "output_type": "execute_result"
    }
   ],
   "source": [
    "d_train"
   ]
  },
  {
   "cell_type": "code",
   "execution_count": 24,
   "id": "42b699eb",
   "metadata": {},
   "outputs": [],
   "source": [
    "def xgb_f1_score(y_hat, data):\n",
    "    y_true = data.get_label().astype(int)\n",
    "    y_hat = np.round(y_hat).astype(int) # scikits f1 doesn't like probabilities\n",
    "    return 'f1', f1_score(y_true, y_hat)\n"
   ]
  },
  {
   "cell_type": "code",
   "execution_count": 25,
   "id": "01466095",
   "metadata": {},
   "outputs": [],
   "source": [
    "def xgb_cv(max_depth, learning_rate, min_child_weight, subsample, colsample_bytree):\n",
    "    params = {'nrounds' : 2000,\n",
    "             'early_stopping_rounds': 20,\n",
    "             'n_jobs':-1\n",
    "             }\n",
    "    params['max_depth']= int(round(max_depth))\n",
    "    params['learning_rate'] = learning_rate\n",
    "    params['min_child_weight'] = min_child_weight\n",
    "    params['subsample'] = subsample\n",
    "    params['colsample_bytree'] = colsample_bytree\n",
    "        \n",
    "    xgbcv = xgb.cv(params, d_train, nfold=n_folds, seed=42, stratified=True, verbose_eval = 200, feval=xgb_f1_score)\n",
    "    \n",
    "    mean_f1 = xgbcv[\"test-f1-mean\"].values[-1]\n",
    "    \n",
    "    return mean_f1\n"
   ]
  },
  {
   "cell_type": "code",
   "execution_count": 26,
   "id": "f8040a41",
   "metadata": {
    "scrolled": false
   },
   "outputs": [
    {
     "name": "stdout",
     "output_type": "stream",
     "text": [
      "[04:50:28] WARNING: C:/Users/administrator/workspace/xgboost-win64_release_1.6.0/src/learner.cc:627: \n",
      "Parameters: { \"early_stopping_rounds\", \"nrounds\" } might not be used.\n",
      "\n",
      "  This could be a false alarm, with some parameters getting used by language bindings but\n",
      "  then being mistakenly passed down to XGBoost core, or some parameter actually being used\n",
      "  but getting flagged wrongly here. Please open an issue if you find any such cases.\n",
      "\n",
      "\n",
      "[04:50:37] WARNING: C:/Users/administrator/workspace/xgboost-win64_release_1.6.0/src/learner.cc:627: \n",
      "Parameters: { \"early_stopping_rounds\", \"nrounds\" } might not be used.\n",
      "\n",
      "  This could be a false alarm, with some parameters getting used by language bindings but\n",
      "  then being mistakenly passed down to XGBoost core, or some parameter actually being used\n",
      "  but getting flagged wrongly here. Please open an issue if you find any such cases.\n",
      "\n",
      "\n",
      "[04:50:42] WARNING: C:/Users/administrator/workspace/xgboost-win64_release_1.6.0/src/learner.cc:627: \n",
      "Parameters: { \"early_stopping_rounds\", \"nrounds\" } might not be used.\n",
      "\n",
      "  This could be a false alarm, with some parameters getting used by language bindings but\n",
      "  then being mistakenly passed down to XGBoost core, or some parameter actually being used\n",
      "  but getting flagged wrongly here. Please open an issue if you find any such cases.\n",
      "\n",
      "\n",
      "[04:50:48] WARNING: C:/Users/administrator/workspace/xgboost-win64_release_1.6.0/src/learner.cc:627: \n",
      "Parameters: { \"early_stopping_rounds\", \"nrounds\" } might not be used.\n",
      "\n",
      "  This could be a false alarm, with some parameters getting used by language bindings but\n",
      "  then being mistakenly passed down to XGBoost core, or some parameter actually being used\n",
      "  but getting flagged wrongly here. Please open an issue if you find any such cases.\n",
      "\n",
      "\n",
      "[0]\ttrain-rmse:0.39722+0.00003\ttrain-f1:0.54403+0.00216\ttest-rmse:0.39763+0.00005\ttest-f1:0.54185+0.00221\n",
      "[9]\ttrain-rmse:0.30384+0.00008\ttrain-f1:0.69348+0.00022\ttest-rmse:0.30756+0.00015\ttest-f1:0.68525+0.00069\n",
      "[04:54:55] WARNING: C:/Users/administrator/workspace/xgboost-win64_release_1.6.0/src/learner.cc:627: \n",
      "Parameters: { \"early_stopping_rounds\", \"nrounds\" } might not be used.\n",
      "\n",
      "  This could be a false alarm, with some parameters getting used by language bindings but\n",
      "  then being mistakenly passed down to XGBoost core, or some parameter actually being used\n",
      "  but getting flagged wrongly here. Please open an issue if you find any such cases.\n",
      "\n",
      "\n",
      "[04:55:05] WARNING: C:/Users/administrator/workspace/xgboost-win64_release_1.6.0/src/learner.cc:627: \n",
      "Parameters: { \"early_stopping_rounds\", \"nrounds\" } might not be used.\n",
      "\n",
      "  This could be a false alarm, with some parameters getting used by language bindings but\n",
      "  then being mistakenly passed down to XGBoost core, or some parameter actually being used\n",
      "  but getting flagged wrongly here. Please open an issue if you find any such cases.\n",
      "\n",
      "\n",
      "[04:55:15] WARNING: C:/Users/administrator/workspace/xgboost-win64_release_1.6.0/src/learner.cc:627: \n",
      "Parameters: { \"early_stopping_rounds\", \"nrounds\" } might not be used.\n",
      "\n",
      "  This could be a false alarm, with some parameters getting used by language bindings but\n",
      "  then being mistakenly passed down to XGBoost core, or some parameter actually being used\n",
      "  but getting flagged wrongly here. Please open an issue if you find any such cases.\n",
      "\n",
      "\n",
      "[04:55:24] WARNING: C:/Users/administrator/workspace/xgboost-win64_release_1.6.0/src/learner.cc:627: \n",
      "Parameters: { \"early_stopping_rounds\", \"nrounds\" } might not be used.\n",
      "\n",
      "  This could be a false alarm, with some parameters getting used by language bindings but\n",
      "  then being mistakenly passed down to XGBoost core, or some parameter actually being used\n",
      "  but getting flagged wrongly here. Please open an issue if you find any such cases.\n",
      "\n",
      "\n",
      "[0]\ttrain-rmse:0.49092+0.00000\ttrain-f1:0.49612+0.00201\ttest-rmse:0.49095+0.00000\ttest-f1:0.49396+0.00201\n",
      "[9]\ttrain-rmse:0.42133+0.00001\ttrain-f1:0.58884+0.00025\ttest-rmse:0.42169+0.00003\ttest-f1:0.58488+0.00038\n",
      "[04:59:53] WARNING: C:/Users/administrator/workspace/xgboost-win64_release_1.6.0/src/learner.cc:627: \n",
      "Parameters: { \"early_stopping_rounds\", \"nrounds\" } might not be used.\n",
      "\n",
      "  This could be a false alarm, with some parameters getting used by language bindings but\n",
      "  then being mistakenly passed down to XGBoost core, or some parameter actually being used\n",
      "  but getting flagged wrongly here. Please open an issue if you find any such cases.\n",
      "\n",
      "\n",
      "[05:00:03] WARNING: C:/Users/administrator/workspace/xgboost-win64_release_1.6.0/src/learner.cc:627: \n",
      "Parameters: { \"early_stopping_rounds\", \"nrounds\" } might not be used.\n",
      "\n",
      "  This could be a false alarm, with some parameters getting used by language bindings but\n",
      "  then being mistakenly passed down to XGBoost core, or some parameter actually being used\n",
      "  but getting flagged wrongly here. Please open an issue if you find any such cases.\n",
      "\n",
      "\n",
      "[05:00:11] WARNING: C:/Users/administrator/workspace/xgboost-win64_release_1.6.0/src/learner.cc:627: \n",
      "Parameters: { \"early_stopping_rounds\", \"nrounds\" } might not be used.\n",
      "\n",
      "  This could be a false alarm, with some parameters getting used by language bindings but\n",
      "  then being mistakenly passed down to XGBoost core, or some parameter actually being used\n",
      "  but getting flagged wrongly here. Please open an issue if you find any such cases.\n",
      "\n",
      "\n",
      "[05:00:17] WARNING: C:/Users/administrator/workspace/xgboost-win64_release_1.6.0/src/learner.cc:627: \n",
      "Parameters: { \"early_stopping_rounds\", \"nrounds\" } might not be used.\n",
      "\n",
      "  This could be a false alarm, with some parameters getting used by language bindings but\n",
      "  then being mistakenly passed down to XGBoost core, or some parameter actually being used\n",
      "  but getting flagged wrongly here. Please open an issue if you find any such cases.\n",
      "\n",
      "\n",
      "[0]\ttrain-rmse:0.40640+0.00007\ttrain-f1:0.46395+0.00082\ttest-rmse:0.40681+0.00011\ttest-f1:0.46110+0.00064\n",
      "[9]\ttrain-rmse:0.31037+0.00017\ttrain-f1:0.67074+0.00037\ttest-rmse:0.31568+0.00022\ttest-f1:0.65740+0.00049\n",
      "[05:04:58] WARNING: C:/Users/administrator/workspace/xgboost-win64_release_1.6.0/src/learner.cc:627: \n",
      "Parameters: { \"early_stopping_rounds\", \"nrounds\" } might not be used.\n",
      "\n",
      "  This could be a false alarm, with some parameters getting used by language bindings but\n",
      "  then being mistakenly passed down to XGBoost core, or some parameter actually being used\n",
      "  but getting flagged wrongly here. Please open an issue if you find any such cases.\n",
      "\n",
      "\n",
      "[05:05:05] WARNING: C:/Users/administrator/workspace/xgboost-win64_release_1.6.0/src/learner.cc:627: \n",
      "Parameters: { \"early_stopping_rounds\", \"nrounds\" } might not be used.\n",
      "\n",
      "  This could be a false alarm, with some parameters getting used by language bindings but\n",
      "  then being mistakenly passed down to XGBoost core, or some parameter actually being used\n",
      "  but getting flagged wrongly here. Please open an issue if you find any such cases.\n",
      "\n",
      "\n",
      "[05:05:12] WARNING: C:/Users/administrator/workspace/xgboost-win64_release_1.6.0/src/learner.cc:627: \n",
      "Parameters: { \"early_stopping_rounds\", \"nrounds\" } might not be used.\n",
      "\n",
      "  This could be a false alarm, with some parameters getting used by language bindings but\n",
      "  then being mistakenly passed down to XGBoost core, or some parameter actually being used\n",
      "  but getting flagged wrongly here. Please open an issue if you find any such cases.\n",
      "\n",
      "\n",
      "[05:05:20] WARNING: C:/Users/administrator/workspace/xgboost-win64_release_1.6.0/src/learner.cc:627: \n",
      "Parameters: { \"early_stopping_rounds\", \"nrounds\" } might not be used.\n",
      "\n",
      "  This could be a false alarm, with some parameters getting used by language bindings but\n",
      "  then being mistakenly passed down to XGBoost core, or some parameter actually being used\n",
      "  but getting flagged wrongly here. Please open an issue if you find any such cases.\n",
      "\n",
      "\n",
      "[0]\ttrain-rmse:0.46365+0.00001\ttrain-f1:0.50097+0.00104\ttest-rmse:0.46376+0.00002\ttest-f1:0.49851+0.00122\n",
      "[9]\ttrain-rmse:0.33087+0.00005\ttrain-f1:0.62772+0.00023\ttest-rmse:0.33226+0.00011\ttest-f1:0.62266+0.00074\n",
      "[05:09:17] WARNING: C:/Users/administrator/workspace/xgboost-win64_release_1.6.0/src/learner.cc:627: \n",
      "Parameters: { \"early_stopping_rounds\", \"nrounds\" } might not be used.\n",
      "\n",
      "  This could be a false alarm, with some parameters getting used by language bindings but\n",
      "  then being mistakenly passed down to XGBoost core, or some parameter actually being used\n",
      "  but getting flagged wrongly here. Please open an issue if you find any such cases.\n",
      "\n",
      "\n"
     ]
    },
    {
     "name": "stdout",
     "output_type": "stream",
     "text": [
      "[05:09:24] WARNING: C:/Users/administrator/workspace/xgboost-win64_release_1.6.0/src/learner.cc:627: \n",
      "Parameters: { \"early_stopping_rounds\", \"nrounds\" } might not be used.\n",
      "\n",
      "  This could be a false alarm, with some parameters getting used by language bindings but\n",
      "  then being mistakenly passed down to XGBoost core, or some parameter actually being used\n",
      "  but getting flagged wrongly here. Please open an issue if you find any such cases.\n",
      "\n",
      "\n",
      "[05:09:29] WARNING: C:/Users/administrator/workspace/xgboost-win64_release_1.6.0/src/learner.cc:627: \n",
      "Parameters: { \"early_stopping_rounds\", \"nrounds\" } might not be used.\n",
      "\n",
      "  This could be a false alarm, with some parameters getting used by language bindings but\n",
      "  then being mistakenly passed down to XGBoost core, or some parameter actually being used\n",
      "  but getting flagged wrongly here. Please open an issue if you find any such cases.\n",
      "\n",
      "\n",
      "[05:09:36] WARNING: C:/Users/administrator/workspace/xgboost-win64_release_1.6.0/src/learner.cc:627: \n",
      "Parameters: { \"early_stopping_rounds\", \"nrounds\" } might not be used.\n",
      "\n",
      "  This could be a false alarm, with some parameters getting used by language bindings but\n",
      "  then being mistakenly passed down to XGBoost core, or some parameter actually being used\n",
      "  but getting flagged wrongly here. Please open an issue if you find any such cases.\n",
      "\n",
      "\n",
      "[0]\ttrain-rmse:0.47796+0.00001\ttrain-f1:0.64316+0.00138\ttest-rmse:0.47803+0.00002\ttest-f1:0.64035+0.00151\n",
      "[9]\ttrain-rmse:0.36108+0.00003\ttrain-f1:0.66805+0.00015\ttest-rmse:0.36190+0.00007\ttest-f1:0.66384+0.00081\n",
      "[05:13:33] WARNING: C:/Users/administrator/workspace/xgboost-win64_release_1.6.0/src/learner.cc:627: \n",
      "Parameters: { \"early_stopping_rounds\", \"nrounds\" } might not be used.\n",
      "\n",
      "  This could be a false alarm, with some parameters getting used by language bindings but\n",
      "  then being mistakenly passed down to XGBoost core, or some parameter actually being used\n",
      "  but getting flagged wrongly here. Please open an issue if you find any such cases.\n",
      "\n",
      "\n",
      "[05:13:40] WARNING: C:/Users/administrator/workspace/xgboost-win64_release_1.6.0/src/learner.cc:627: \n",
      "Parameters: { \"early_stopping_rounds\", \"nrounds\" } might not be used.\n",
      "\n",
      "  This could be a false alarm, with some parameters getting used by language bindings but\n",
      "  then being mistakenly passed down to XGBoost core, or some parameter actually being used\n",
      "  but getting flagged wrongly here. Please open an issue if you find any such cases.\n",
      "\n",
      "\n",
      "[05:13:48] WARNING: C:/Users/administrator/workspace/xgboost-win64_release_1.6.0/src/learner.cc:627: \n",
      "Parameters: { \"early_stopping_rounds\", \"nrounds\" } might not be used.\n",
      "\n",
      "  This could be a false alarm, with some parameters getting used by language bindings but\n",
      "  then being mistakenly passed down to XGBoost core, or some parameter actually being used\n",
      "  but getting flagged wrongly here. Please open an issue if you find any such cases.\n",
      "\n",
      "\n",
      "[05:13:52] WARNING: C:/Users/administrator/workspace/xgboost-win64_release_1.6.0/src/learner.cc:627: \n",
      "Parameters: { \"early_stopping_rounds\", \"nrounds\" } might not be used.\n",
      "\n",
      "  This could be a false alarm, with some parameters getting used by language bindings but\n",
      "  then being mistakenly passed down to XGBoost core, or some parameter actually being used\n",
      "  but getting flagged wrongly here. Please open an issue if you find any such cases.\n",
      "\n",
      "\n",
      "[0]\ttrain-rmse:0.48664+0.00001\ttrain-f1:0.64307+0.00076\ttest-rmse:0.48668+0.00001\ttest-f1:0.64009+0.00096\n",
      "[9]\ttrain-rmse:0.39917+0.00004\ttrain-f1:0.66394+0.00010\ttest-rmse:0.39965+0.00002\ttest-f1:0.66008+0.00066\n",
      "[05:18:33] WARNING: C:/Users/administrator/workspace/xgboost-win64_release_1.6.0/src/learner.cc:627: \n",
      "Parameters: { \"early_stopping_rounds\", \"nrounds\" } might not be used.\n",
      "\n",
      "  This could be a false alarm, with some parameters getting used by language bindings but\n",
      "  then being mistakenly passed down to XGBoost core, or some parameter actually being used\n",
      "  but getting flagged wrongly here. Please open an issue if you find any such cases.\n",
      "\n",
      "\n",
      "[05:18:38] WARNING: C:/Users/administrator/workspace/xgboost-win64_release_1.6.0/src/learner.cc:627: \n",
      "Parameters: { \"early_stopping_rounds\", \"nrounds\" } might not be used.\n",
      "\n",
      "  This could be a false alarm, with some parameters getting used by language bindings but\n",
      "  then being mistakenly passed down to XGBoost core, or some parameter actually being used\n",
      "  but getting flagged wrongly here. Please open an issue if you find any such cases.\n",
      "\n",
      "\n",
      "[05:18:43] WARNING: C:/Users/administrator/workspace/xgboost-win64_release_1.6.0/src/learner.cc:627: \n",
      "Parameters: { \"early_stopping_rounds\", \"nrounds\" } might not be used.\n",
      "\n",
      "  This could be a false alarm, with some parameters getting used by language bindings but\n",
      "  then being mistakenly passed down to XGBoost core, or some parameter actually being used\n",
      "  but getting flagged wrongly here. Please open an issue if you find any such cases.\n",
      "\n",
      "\n",
      "[05:18:52] WARNING: C:/Users/administrator/workspace/xgboost-win64_release_1.6.0/src/learner.cc:627: \n",
      "Parameters: { \"early_stopping_rounds\", \"nrounds\" } might not be used.\n",
      "\n",
      "  This could be a false alarm, with some parameters getting used by language bindings but\n",
      "  then being mistakenly passed down to XGBoost core, or some parameter actually being used\n",
      "  but getting flagged wrongly here. Please open an issue if you find any such cases.\n",
      "\n",
      "\n",
      "[0]\ttrain-rmse:0.46688+0.00001\ttrain-f1:0.54760+0.00089\ttest-rmse:0.46699+0.00001\ttest-f1:0.54501+0.00129\n",
      "[9]\ttrain-rmse:0.33119+0.00003\ttrain-f1:0.65347+0.00015\ttest-rmse:0.33250+0.00007\ttest-f1:0.64892+0.00045\n",
      "[05:23:41] WARNING: C:/Users/administrator/workspace/xgboost-win64_release_1.6.0/src/learner.cc:627: \n",
      "Parameters: { \"early_stopping_rounds\", \"nrounds\" } might not be used.\n",
      "\n",
      "  This could be a false alarm, with some parameters getting used by language bindings but\n",
      "  then being mistakenly passed down to XGBoost core, or some parameter actually being used\n",
      "  but getting flagged wrongly here. Please open an issue if you find any such cases.\n",
      "\n",
      "\n",
      "[05:23:45] WARNING: C:/Users/administrator/workspace/xgboost-win64_release_1.6.0/src/learner.cc:627: \n",
      "Parameters: { \"early_stopping_rounds\", \"nrounds\" } might not be used.\n",
      "\n",
      "  This could be a false alarm, with some parameters getting used by language bindings but\n",
      "  then being mistakenly passed down to XGBoost core, or some parameter actually being used\n",
      "  but getting flagged wrongly here. Please open an issue if you find any such cases.\n",
      "\n",
      "\n",
      "[05:23:49] WARNING: C:/Users/administrator/workspace/xgboost-win64_release_1.6.0/src/learner.cc:627: \n",
      "Parameters: { \"early_stopping_rounds\", \"nrounds\" } might not be used.\n",
      "\n",
      "  This could be a false alarm, with some parameters getting used by language bindings but\n",
      "  then being mistakenly passed down to XGBoost core, or some parameter actually being used\n",
      "  but getting flagged wrongly here. Please open an issue if you find any such cases.\n",
      "\n",
      "\n",
      "[05:23:55] WARNING: C:/Users/administrator/workspace/xgboost-win64_release_1.6.0/src/learner.cc:627: \n",
      "Parameters: { \"early_stopping_rounds\", \"nrounds\" } might not be used.\n",
      "\n",
      "  This could be a false alarm, with some parameters getting used by language bindings but\n",
      "  then being mistakenly passed down to XGBoost core, or some parameter actually being used\n",
      "  but getting flagged wrongly here. Please open an issue if you find any such cases.\n",
      "\n",
      "\n",
      "[0]\ttrain-rmse:0.42571+0.00005\ttrain-f1:0.50614+0.00119\ttest-rmse:0.42598+0.00001\ttest-f1:0.50368+0.00099\n",
      "[9]\ttrain-rmse:0.30949+0.00003\ttrain-f1:0.67149+0.00037\ttest-rmse:0.31264+0.00023\ttest-f1:0.66359+0.00063\n",
      "[05:28:37] WARNING: C:/Users/administrator/workspace/xgboost-win64_release_1.6.0/src/learner.cc:627: \n",
      "Parameters: { \"early_stopping_rounds\", \"nrounds\" } might not be used.\n",
      "\n",
      "  This could be a false alarm, with some parameters getting used by language bindings but\n",
      "  then being mistakenly passed down to XGBoost core, or some parameter actually being used\n",
      "  but getting flagged wrongly here. Please open an issue if you find any such cases.\n",
      "\n",
      "\n",
      "[05:28:41] WARNING: C:/Users/administrator/workspace/xgboost-win64_release_1.6.0/src/learner.cc:627: \n",
      "Parameters: { \"early_stopping_rounds\", \"nrounds\" } might not be used.\n",
      "\n",
      "  This could be a false alarm, with some parameters getting used by language bindings but\n",
      "  then being mistakenly passed down to XGBoost core, or some parameter actually being used\n",
      "  but getting flagged wrongly here. Please open an issue if you find any such cases.\n",
      "\n",
      "\n"
     ]
    },
    {
     "name": "stdout",
     "output_type": "stream",
     "text": [
      "[05:28:45] WARNING: C:/Users/administrator/workspace/xgboost-win64_release_1.6.0/src/learner.cc:627: \n",
      "Parameters: { \"early_stopping_rounds\", \"nrounds\" } might not be used.\n",
      "\n",
      "  This could be a false alarm, with some parameters getting used by language bindings but\n",
      "  then being mistakenly passed down to XGBoost core, or some parameter actually being used\n",
      "  but getting flagged wrongly here. Please open an issue if you find any such cases.\n",
      "\n",
      "\n",
      "[05:28:56] WARNING: C:/Users/administrator/workspace/xgboost-win64_release_1.6.0/src/learner.cc:627: \n",
      "Parameters: { \"early_stopping_rounds\", \"nrounds\" } might not be used.\n",
      "\n",
      "  This could be a false alarm, with some parameters getting used by language bindings but\n",
      "  then being mistakenly passed down to XGBoost core, or some parameter actually being used\n",
      "  but getting flagged wrongly here. Please open an issue if you find any such cases.\n",
      "\n",
      "\n",
      "[0]\ttrain-rmse:0.43197+0.00005\ttrain-f1:0.58365+0.00104\ttest-rmse:0.43225+0.00005\ttest-f1:0.58052+0.00132\n",
      "[9]\ttrain-rmse:0.30369+0.00012\ttrain-f1:0.69245+0.00031\ttest-rmse:0.30678+0.00011\ttest-f1:0.68479+0.00035\n",
      "[05:33:24] WARNING: C:/Users/administrator/workspace/xgboost-win64_release_1.6.0/src/learner.cc:627: \n",
      "Parameters: { \"early_stopping_rounds\", \"nrounds\" } might not be used.\n",
      "\n",
      "  This could be a false alarm, with some parameters getting used by language bindings but\n",
      "  then being mistakenly passed down to XGBoost core, or some parameter actually being used\n",
      "  but getting flagged wrongly here. Please open an issue if you find any such cases.\n",
      "\n",
      "\n",
      "[05:33:28] WARNING: C:/Users/administrator/workspace/xgboost-win64_release_1.6.0/src/learner.cc:627: \n",
      "Parameters: { \"early_stopping_rounds\", \"nrounds\" } might not be used.\n",
      "\n",
      "  This could be a false alarm, with some parameters getting used by language bindings but\n",
      "  then being mistakenly passed down to XGBoost core, or some parameter actually being used\n",
      "  but getting flagged wrongly here. Please open an issue if you find any such cases.\n",
      "\n",
      "\n",
      "[05:33:32] WARNING: C:/Users/administrator/workspace/xgboost-win64_release_1.6.0/src/learner.cc:627: \n",
      "Parameters: { \"early_stopping_rounds\", \"nrounds\" } might not be used.\n",
      "\n",
      "  This could be a false alarm, with some parameters getting used by language bindings but\n",
      "  then being mistakenly passed down to XGBoost core, or some parameter actually being used\n",
      "  but getting flagged wrongly here. Please open an issue if you find any such cases.\n",
      "\n",
      "\n",
      "[05:33:36] WARNING: C:/Users/administrator/workspace/xgboost-win64_release_1.6.0/src/learner.cc:627: \n",
      "Parameters: { \"early_stopping_rounds\", \"nrounds\" } might not be used.\n",
      "\n",
      "  This could be a false alarm, with some parameters getting used by language bindings but\n",
      "  then being mistakenly passed down to XGBoost core, or some parameter actually being used\n",
      "  but getting flagged wrongly here. Please open an issue if you find any such cases.\n",
      "\n",
      "\n",
      "[0]\ttrain-rmse:0.46584+0.00004\ttrain-f1:0.64311+0.00078\ttest-rmse:0.46595+0.00002\ttest-f1:0.64036+0.00074\n",
      "[9]\ttrain-rmse:0.33012+0.00010\ttrain-f1:0.67656+0.00031\ttest-rmse:0.33143+0.00004\ttest-f1:0.67188+0.00050\n",
      "[05:38:13] WARNING: C:/Users/administrator/workspace/xgboost-win64_release_1.6.0/src/learner.cc:627: \n",
      "Parameters: { \"early_stopping_rounds\", \"nrounds\" } might not be used.\n",
      "\n",
      "  This could be a false alarm, with some parameters getting used by language bindings but\n",
      "  then being mistakenly passed down to XGBoost core, or some parameter actually being used\n",
      "  but getting flagged wrongly here. Please open an issue if you find any such cases.\n",
      "\n",
      "\n",
      "[05:38:17] WARNING: C:/Users/administrator/workspace/xgboost-win64_release_1.6.0/src/learner.cc:627: \n",
      "Parameters: { \"early_stopping_rounds\", \"nrounds\" } might not be used.\n",
      "\n",
      "  This could be a false alarm, with some parameters getting used by language bindings but\n",
      "  then being mistakenly passed down to XGBoost core, or some parameter actually being used\n",
      "  but getting flagged wrongly here. Please open an issue if you find any such cases.\n",
      "\n",
      "\n",
      "[05:38:21] WARNING: C:/Users/administrator/workspace/xgboost-win64_release_1.6.0/src/learner.cc:627: \n",
      "Parameters: { \"early_stopping_rounds\", \"nrounds\" } might not be used.\n",
      "\n",
      "  This could be a false alarm, with some parameters getting used by language bindings but\n",
      "  then being mistakenly passed down to XGBoost core, or some parameter actually being used\n",
      "  but getting flagged wrongly here. Please open an issue if you find any such cases.\n",
      "\n",
      "\n",
      "[05:38:29] WARNING: C:/Users/administrator/workspace/xgboost-win64_release_1.6.0/src/learner.cc:627: \n",
      "Parameters: { \"early_stopping_rounds\", \"nrounds\" } might not be used.\n",
      "\n",
      "  This could be a false alarm, with some parameters getting used by language bindings but\n",
      "  then being mistakenly passed down to XGBoost core, or some parameter actually being used\n",
      "  but getting flagged wrongly here. Please open an issue if you find any such cases.\n",
      "\n",
      "\n",
      "[0]\ttrain-rmse:0.40744+0.00008\ttrain-f1:0.44486+0.00306\ttest-rmse:0.40761+0.00007\ttest-f1:0.44379+0.00311\n",
      "[9]\ttrain-rmse:0.32176+0.00016\ttrain-f1:0.63833+0.00048\ttest-rmse:0.32390+0.00025\ttest-f1:0.63277+0.00078\n",
      "[05:43:45] WARNING: C:/Users/administrator/workspace/xgboost-win64_release_1.6.0/src/learner.cc:627: \n",
      "Parameters: { \"early_stopping_rounds\", \"nrounds\" } might not be used.\n",
      "\n",
      "  This could be a false alarm, with some parameters getting used by language bindings but\n",
      "  then being mistakenly passed down to XGBoost core, or some parameter actually being used\n",
      "  but getting flagged wrongly here. Please open an issue if you find any such cases.\n",
      "\n",
      "\n",
      "[05:43:48] WARNING: C:/Users/administrator/workspace/xgboost-win64_release_1.6.0/src/learner.cc:627: \n",
      "Parameters: { \"early_stopping_rounds\", \"nrounds\" } might not be used.\n",
      "\n",
      "  This could be a false alarm, with some parameters getting used by language bindings but\n",
      "  then being mistakenly passed down to XGBoost core, or some parameter actually being used\n",
      "  but getting flagged wrongly here. Please open an issue if you find any such cases.\n",
      "\n",
      "\n",
      "[05:43:52] WARNING: C:/Users/administrator/workspace/xgboost-win64_release_1.6.0/src/learner.cc:627: \n",
      "Parameters: { \"early_stopping_rounds\", \"nrounds\" } might not be used.\n",
      "\n",
      "  This could be a false alarm, with some parameters getting used by language bindings but\n",
      "  then being mistakenly passed down to XGBoost core, or some parameter actually being used\n",
      "  but getting flagged wrongly here. Please open an issue if you find any such cases.\n",
      "\n",
      "\n",
      "[05:43:56] WARNING: C:/Users/administrator/workspace/xgboost-win64_release_1.6.0/src/learner.cc:627: \n",
      "Parameters: { \"early_stopping_rounds\", \"nrounds\" } might not be used.\n",
      "\n",
      "  This could be a false alarm, with some parameters getting used by language bindings but\n",
      "  then being mistakenly passed down to XGBoost core, or some parameter actually being used\n",
      "  but getting flagged wrongly here. Please open an issue if you find any such cases.\n",
      "\n",
      "\n",
      "[0]\ttrain-rmse:0.39448+0.00010\ttrain-f1:0.56952+0.00124\ttest-rmse:0.39478+0.00017\ttest-f1:0.56760+0.00151\n",
      "[9]\ttrain-rmse:0.30595+0.00024\ttrain-f1:0.68945+0.00071\ttest-rmse:0.30865+0.00013\ttest-f1:0.68357+0.00058\n",
      "[05:47:51] WARNING: C:/Users/administrator/workspace/xgboost-win64_release_1.6.0/src/learner.cc:627: \n",
      "Parameters: { \"early_stopping_rounds\", \"nrounds\" } might not be used.\n",
      "\n",
      "  This could be a false alarm, with some parameters getting used by language bindings but\n",
      "  then being mistakenly passed down to XGBoost core, or some parameter actually being used\n",
      "  but getting flagged wrongly here. Please open an issue if you find any such cases.\n",
      "\n",
      "\n",
      "[05:47:58] WARNING: C:/Users/administrator/workspace/xgboost-win64_release_1.6.0/src/learner.cc:627: \n",
      "Parameters: { \"early_stopping_rounds\", \"nrounds\" } might not be used.\n",
      "\n",
      "  This could be a false alarm, with some parameters getting used by language bindings but\n",
      "  then being mistakenly passed down to XGBoost core, or some parameter actually being used\n",
      "  but getting flagged wrongly here. Please open an issue if you find any such cases.\n",
      "\n",
      "\n",
      "[05:48:02] WARNING: C:/Users/administrator/workspace/xgboost-win64_release_1.6.0/src/learner.cc:627: \n",
      "Parameters: { \"early_stopping_rounds\", \"nrounds\" } might not be used.\n",
      "\n",
      "  This could be a false alarm, with some parameters getting used by language bindings but\n",
      "  then being mistakenly passed down to XGBoost core, or some parameter actually being used\n",
      "  but getting flagged wrongly here. Please open an issue if you find any such cases.\n",
      "\n",
      "\n"
     ]
    },
    {
     "name": "stdout",
     "output_type": "stream",
     "text": [
      "[05:48:09] WARNING: C:/Users/administrator/workspace/xgboost-win64_release_1.6.0/src/learner.cc:627: \n",
      "Parameters: { \"early_stopping_rounds\", \"nrounds\" } might not be used.\n",
      "\n",
      "  This could be a false alarm, with some parameters getting used by language bindings but\n",
      "  then being mistakenly passed down to XGBoost core, or some parameter actually being used\n",
      "  but getting flagged wrongly here. Please open an issue if you find any such cases.\n",
      "\n",
      "\n",
      "[0]\ttrain-rmse:0.40696+0.00010\ttrain-f1:0.52959+0.00821\ttest-rmse:0.40709+0.00008\ttest-f1:0.52841+0.00825\n",
      "[9]\ttrain-rmse:0.31208+0.00016\ttrain-f1:0.67129+0.00047\ttest-rmse:0.31349+0.00006\ttest-f1:0.66783+0.00039\n",
      "[05:51:41] WARNING: C:/Users/administrator/workspace/xgboost-win64_release_1.6.0/src/learner.cc:627: \n",
      "Parameters: { \"early_stopping_rounds\", \"nrounds\" } might not be used.\n",
      "\n",
      "  This could be a false alarm, with some parameters getting used by language bindings but\n",
      "  then being mistakenly passed down to XGBoost core, or some parameter actually being used\n",
      "  but getting flagged wrongly here. Please open an issue if you find any such cases.\n",
      "\n",
      "\n",
      "[05:51:47] WARNING: C:/Users/administrator/workspace/xgboost-win64_release_1.6.0/src/learner.cc:627: \n",
      "Parameters: { \"early_stopping_rounds\", \"nrounds\" } might not be used.\n",
      "\n",
      "  This could be a false alarm, with some parameters getting used by language bindings but\n",
      "  then being mistakenly passed down to XGBoost core, or some parameter actually being used\n",
      "  but getting flagged wrongly here. Please open an issue if you find any such cases.\n",
      "\n",
      "\n",
      "[05:51:54] WARNING: C:/Users/administrator/workspace/xgboost-win64_release_1.6.0/src/learner.cc:627: \n",
      "Parameters: { \"early_stopping_rounds\", \"nrounds\" } might not be used.\n",
      "\n",
      "  This could be a false alarm, with some parameters getting used by language bindings but\n",
      "  then being mistakenly passed down to XGBoost core, or some parameter actually being used\n",
      "  but getting flagged wrongly here. Please open an issue if you find any such cases.\n",
      "\n",
      "\n",
      "[05:52:02] WARNING: C:/Users/administrator/workspace/xgboost-win64_release_1.6.0/src/learner.cc:627: \n",
      "Parameters: { \"early_stopping_rounds\", \"nrounds\" } might not be used.\n",
      "\n",
      "  This could be a false alarm, with some parameters getting used by language bindings but\n",
      "  then being mistakenly passed down to XGBoost core, or some parameter actually being used\n",
      "  but getting flagged wrongly here. Please open an issue if you find any such cases.\n",
      "\n",
      "\n",
      "[0]\ttrain-rmse:0.44625+0.00004\ttrain-f1:0.65213+0.00102\ttest-rmse:0.44656+0.00003\ttest-f1:0.64722+0.00119\n",
      "[9]\ttrain-rmse:0.30455+0.00003\ttrain-f1:0.70225+0.00025\ttest-rmse:0.30792+0.00010\ttest-f1:0.69281+0.00075\n",
      "[05:56:09] WARNING: C:/Users/administrator/workspace/xgboost-win64_release_1.6.0/src/learner.cc:627: \n",
      "Parameters: { \"early_stopping_rounds\", \"nrounds\" } might not be used.\n",
      "\n",
      "  This could be a false alarm, with some parameters getting used by language bindings but\n",
      "  then being mistakenly passed down to XGBoost core, or some parameter actually being used\n",
      "  but getting flagged wrongly here. Please open an issue if you find any such cases.\n",
      "\n",
      "\n",
      "[05:56:14] WARNING: C:/Users/administrator/workspace/xgboost-win64_release_1.6.0/src/learner.cc:627: \n",
      "Parameters: { \"early_stopping_rounds\", \"nrounds\" } might not be used.\n",
      "\n",
      "  This could be a false alarm, with some parameters getting used by language bindings but\n",
      "  then being mistakenly passed down to XGBoost core, or some parameter actually being used\n",
      "  but getting flagged wrongly here. Please open an issue if you find any such cases.\n",
      "\n",
      "\n",
      "[05:56:19] WARNING: C:/Users/administrator/workspace/xgboost-win64_release_1.6.0/src/learner.cc:627: \n",
      "Parameters: { \"early_stopping_rounds\", \"nrounds\" } might not be used.\n",
      "\n",
      "  This could be a false alarm, with some parameters getting used by language bindings but\n",
      "  then being mistakenly passed down to XGBoost core, or some parameter actually being used\n",
      "  but getting flagged wrongly here. Please open an issue if you find any such cases.\n",
      "\n",
      "\n",
      "[05:56:27] WARNING: C:/Users/administrator/workspace/xgboost-win64_release_1.6.0/src/learner.cc:627: \n",
      "Parameters: { \"early_stopping_rounds\", \"nrounds\" } might not be used.\n",
      "\n",
      "  This could be a false alarm, with some parameters getting used by language bindings but\n",
      "  then being mistakenly passed down to XGBoost core, or some parameter actually being used\n",
      "  but getting flagged wrongly here. Please open an issue if you find any such cases.\n",
      "\n",
      "\n",
      "[0]\ttrain-rmse:0.42082+0.00001\ttrain-f1:0.66431+0.00106\ttest-rmse:0.42125+0.00003\ttest-f1:0.66032+0.00101\n",
      "[9]\ttrain-rmse:0.29740+0.00007\ttrain-f1:0.70882+0.00019\ttest-rmse:0.30159+0.00014\ttest-f1:0.69963+0.00039\n",
      "{'target': 0.6996282500000001, 'params': {'colsample_bytree': 0.920424841774389, 'learning_rate': 0.2842057203730153, 'max_depth': 15.795146664530922, 'min_child_weight': 366.3862980089001, 'subsample': 0.629757927803605}}\n"
     ]
    }
   ],
   "source": [
    "lgbB1 = BayesianOptimization(xgb_cv,pbounds,random_state=42,verbose=0)\n",
    "init_round = 5\n",
    "opt_round = 10\n",
    "lgbB1.maximize(init_points=init_round, n_iter=opt_round)\n",
    "print(lgbB1.max)"
   ]
  },
  {
   "cell_type": "code",
   "execution_count": 27,
   "id": "1849eb10",
   "metadata": {},
   "outputs": [],
   "source": [
    "params1 = {'colsample_bytree': 0.920424841774389,\n",
    "          'learning_rate': 0.2842057203730153, \n",
    "          'max_depth': 16, \n",
    "          'min_child_weight': 366.3862980089001, \n",
    "          'subsample': 0.629757927803605}"
   ]
  },
  {
   "cell_type": "code",
   "execution_count": 28,
   "id": "b50b53d9",
   "metadata": {},
   "outputs": [],
   "source": [
    "a =  {'nrounds' : 5000,\n",
    "      'early_stopping_rounds':30,\n",
    "      'n_jobs':-1}"
   ]
  },
  {
   "cell_type": "code",
   "execution_count": 29,
   "id": "e48b35f9",
   "metadata": {},
   "outputs": [],
   "source": [
    "params1.update(a)"
   ]
  },
  {
   "cell_type": "code",
   "execution_count": 30,
   "id": "ede0505e",
   "metadata": {},
   "outputs": [
    {
     "data": {
      "text/plain": [
       "{'colsample_bytree': 0.920424841774389,\n",
       " 'learning_rate': 0.2842057203730153,\n",
       " 'max_depth': 16,\n",
       " 'min_child_weight': 366.3862980089001,\n",
       " 'subsample': 0.629757927803605,\n",
       " 'nrounds': 5000,\n",
       " 'early_stopping_rounds': 30,\n",
       " 'n_jobs': -1}"
      ]
     },
     "execution_count": 30,
     "metadata": {},
     "output_type": "execute_result"
    }
   ],
   "source": [
    "params1"
   ]
  },
  {
   "cell_type": "code",
   "execution_count": 31,
   "id": "e771c107",
   "metadata": {},
   "outputs": [],
   "source": [
    "d_train = xgb.DMatrix(x_train_over, y_train_over)\n",
    "d_val = xgb.DMatrix(df_vali_x,df_vali_y)"
   ]
  },
  {
   "cell_type": "code",
   "execution_count": 33,
   "id": "61403c97",
   "metadata": {},
   "outputs": [
    {
     "name": "stdout",
     "output_type": "stream",
     "text": [
      "[06:27:39] WARNING: C:/Users/administrator/workspace/xgboost-win64_release_1.6.0/src/learner.cc:627: \n",
      "Parameters: { \"early_stopping_rounds\", \"nrounds\" } might not be used.\n",
      "\n",
      "  This could be a false alarm, with some parameters getting used by language bindings but\n",
      "  then being mistakenly passed down to XGBoost core, or some parameter actually being used\n",
      "  but getting flagged wrongly here. Please open an issue if you find any such cases.\n",
      "\n",
      "\n",
      "[0]\teval-rmse:0.40467\teval-f1:0.41386\ttrain-rmse:0.42032\ttrain-f1:0.66682\n",
      "[1]\teval-rmse:0.34417\teval-f1:0.42597\ttrain-rmse:0.37227\ttrain-f1:0.67383\n",
      "[2]\teval-rmse:0.30640\teval-f1:0.43339\ttrain-rmse:0.34388\ttrain-f1:0.67849\n",
      "[3]\teval-rmse:0.28304\teval-f1:0.43926\ttrain-rmse:0.32554\ttrain-f1:0.68611\n",
      "[4]\teval-rmse:0.26930\teval-f1:0.44230\ttrain-rmse:0.31434\ttrain-f1:0.69267\n",
      "[5]\teval-rmse:0.26105\teval-f1:0.44507\ttrain-rmse:0.30725\ttrain-f1:0.69791\n",
      "[6]\teval-rmse:0.25650\teval-f1:0.44645\ttrain-rmse:0.30270\ttrain-f1:0.70231\n",
      "[7]\teval-rmse:0.25389\teval-f1:0.44666\ttrain-rmse:0.29944\ttrain-f1:0.70730\n",
      "[8]\teval-rmse:0.25208\teval-f1:0.44738\ttrain-rmse:0.29709\ttrain-f1:0.71116\n",
      "[9]\teval-rmse:0.25113\teval-f1:0.44804\ttrain-rmse:0.29506\ttrain-f1:0.71490\n"
     ]
    }
   ],
   "source": [
    "watch_list = [(d_val, 'eval'), (d_train, 'train')]\n",
    "xgb2 = xgb.train(params1, d_train, evals = watch_list, feval=xgb_f1_score) #xgb train"
   ]
  },
  {
   "cell_type": "code",
   "execution_count": 18,
   "id": "1593afd0",
   "metadata": {},
   "outputs": [],
   "source": [
    "from sklearn.metrics import confusion_matrix ,accuracy_score, precision_score, recall_score, f1_score, roc_auc_score\n"
   ]
  },
  {
   "cell_type": "code",
   "execution_count": null,
   "id": "61bff371",
   "metadata": {},
   "outputs": [],
   "source": [
    "def get_clf_eval(y_test,pred=None):\n",
    "    confusion = confusion_matrix(y_test, pred)\n",
    "    accuracy = accuracy_score(y_test, pred)\n",
    "    precision = precision_score(y_test, pred)\n",
    "    recall = recall_score(y_test, pred)\n",
    "    f1 = f1_score(y_test, pred)\n",
    "    \n",
    "    print('오차행렬')\n",
    "    print(confusion)\n",
    "    print('정확도 :{0:4f}, 정밀도 :{1:4f}, 재현율 :{2:4f}, f1-score :{3:4f}'\n",
    "          .format(accuracy, precision, recall, f1))"
   ]
  },
  {
   "cell_type": "code",
   "execution_count": null,
   "id": "e6a844ea",
   "metadata": {},
   "outputs": [],
   "source": [
    "watch_list = [(d_val, 'eval'), (d_train, 'train')]\n",
    "xgb2 = xgb.train(params1, d_train, evals = watch_list, feval=xgb_f1_score) #xgb train"
   ]
  },
  {
   "cell_type": "code",
   "execution_count": 37,
   "id": "1357fab0",
   "metadata": {},
   "outputs": [
    {
     "name": "stdout",
     "output_type": "stream",
     "text": [
      "오차행렬\n",
      "[[3155508  220688]\n",
      " [  79349  121772]]\n",
      "정확도 :0.916128, 정밀도 :0.355580, 재현율 :0.605466, f1-score :0.448036\n"
     ]
    }
   ],
   "source": [
    "dtest = xgb.DMatrix(df_vali_x)\n",
    "xgb_prob = xgb2.predict(dtest)\n",
    "y_pred = np.around(xgb_prob).astype(int)\n",
    "get_clf_eval(df_vali_y, y_pred)"
   ]
  },
  {
   "cell_type": "markdown",
   "id": "040cf0b8",
   "metadata": {},
   "source": [
    "## ADABoost"
   ]
  },
  {
   "cell_type": "code",
   "execution_count": 18,
   "id": "359b2572",
   "metadata": {},
   "outputs": [],
   "source": [
    "from sklearn.ensemble import AdaBoostClassifier\n",
    "\n",
    "ab = AdaBoostClassifier()"
   ]
  },
  {
   "cell_type": "code",
   "execution_count": 22,
   "id": "54899ead",
   "metadata": {},
   "outputs": [],
   "source": [
    "from sklearn.metrics import f1_score, make_scorer"
   ]
  },
  {
   "cell_type": "code",
   "execution_count": 28,
   "id": "bb21d4c1",
   "metadata": {},
   "outputs": [
    {
     "name": "stdout",
     "output_type": "stream",
     "text": [
      "Fitting 2 folds for each of 12 candidates, totalling 24 fits\n",
      "최적의 파라미터 : {'learning_rate': 0.2, 'n_estimators': 200}\n",
      "최고의 예측 정확도 : 0.5900851210544089\n"
     ]
    }
   ],
   "source": [
    "from sklearn.model_selection import GridSearchCV\n",
    "f1 = make_scorer(f1_score,pos_label=1)\n",
    "\n",
    "params = {\n",
    "    'n_estimators':[50,100, 200],\n",
    "    'learning_rate':[0.01,0.05,0.1,0.2]\n",
    "}\n",
    "grid_cv = GridSearchCV(ab,param_grid=params, cv=2 ,scoring = f1,verbose=1)\n",
    "grid_cv.fit(x_train_over,y_train_over)\n",
    "print('최적의 파라미터 :',grid_cv.best_params_)\n",
    "print('최고의 예측 정확도 :',grid_cv.best_score_)"
   ]
  },
  {
   "cell_type": "code",
   "execution_count": 29,
   "id": "42eb5252",
   "metadata": {},
   "outputs": [],
   "source": [
    "ab = AdaBoostClassifier(n_estimators=200, learning_rate=0.2)\n",
    "ab.fit(x_train_over,y_train_over)\n",
    "pred = ab.predict(df_vali_x)"
   ]
  },
  {
   "cell_type": "code",
   "execution_count": 30,
   "id": "c0b528ff",
   "metadata": {
    "scrolled": true
   },
   "outputs": [
    {
     "name": "stdout",
     "output_type": "stream",
     "text": [
      "오차행렬\n",
      "[[3159507  216689]\n",
      " [  97041  104080]]\n",
      "정확도 :0.912300, 정밀도 :0.324470, 재현율 :0.517499, f1-score :0.398858, AUC :0.886133\n"
     ]
    }
   ],
   "source": [
    "pred_proba = ab.predict_proba(df_vali_x)[:,1]\n",
    "get_clf_eval(df_vali_y, pred, pred_proba)"
   ]
  },
  {
   "cell_type": "markdown",
   "id": "0ea22b45",
   "metadata": {},
   "source": [
    "최종 파라미터 n_estimators=200, learning_rate=0.2"
   ]
  },
  {
   "cell_type": "markdown",
   "id": "91da4878",
   "metadata": {},
   "source": [
    "## GBM"
   ]
  },
  {
   "cell_type": "code",
   "execution_count": 19,
   "id": "931d7dc9",
   "metadata": {},
   "outputs": [],
   "source": [
    "gb = GradientBoostingClassifier(n_estimators=300,learning_rate = 0.05)\n",
    "gb.fit(x_train_over,y_train_over)\n",
    "pred = gb.predict(df_vali_x)"
   ]
  },
  {
   "cell_type": "code",
   "execution_count": 20,
   "id": "fc6c0c17",
   "metadata": {
    "scrolled": true
   },
   "outputs": [
    {
     "name": "stdout",
     "output_type": "stream",
     "text": [
      "오차행렬\n",
      "[[3163025  213171]\n",
      " [  86706  114415]]\n",
      "정확도 :0.916173, 정밀도 :0.349267, 재현율 :0.568886, f1-score :0.432811, AUC :0.903652\n"
     ]
    }
   ],
   "source": [
    "pred_proba = gb.predict_proba(df_vali_x)[:,1]\n",
    "get_clf_eval(df_vali_y, pred, pred_proba)"
   ]
  },
  {
   "cell_type": "code",
   "execution_count": 21,
   "id": "27afe243",
   "metadata": {},
   "outputs": [],
   "source": [
    "gb = GradientBoostingClassifier(n_estimators=100,learning_rate = 0.15, max_depth=5)\n",
    "gb.fit(x_train_over,y_train_over)\n",
    "pred = gb.predict(df_vali_x)"
   ]
  },
  {
   "cell_type": "code",
   "execution_count": 22,
   "id": "0b82b086",
   "metadata": {
    "scrolled": false
   },
   "outputs": [
    {
     "name": "stdout",
     "output_type": "stream",
     "text": [
      "오차행렬\n",
      "[[3138924  237272]\n",
      " [  75682  125439]]\n",
      "정확도 :0.912517, 정밀도 :0.345837, 재현율 :0.623699, f1-score :0.444952, AUC :0.911940\n"
     ]
    }
   ],
   "source": [
    "pred_proba = gb.predict_proba(df_vali_x)[:,1]\n",
    "get_clf_eval(df_vali_y, pred, pred_proba)"
   ]
  },
  {
   "cell_type": "code",
   "execution_count": 23,
   "id": "922ef140",
   "metadata": {},
   "outputs": [],
   "source": [
    "gb = GradientBoostingClassifier()\n",
    "gb.fit(x_train_over,y_train_over)\n",
    "pred = gb.predict(df_vali_x)"
   ]
  },
  {
   "cell_type": "code",
   "execution_count": 24,
   "id": "d41ad1c0",
   "metadata": {},
   "outputs": [
    {
     "name": "stdout",
     "output_type": "stream",
     "text": [
      "오차행렬\n",
      "[[3166072  210124]\n",
      " [  89228  111893]]\n",
      "정확도 :0.916319, 정밀도 :0.347475, 재현율 :0.556347, f1-score :0.427776, AUC :0.899694\n"
     ]
    }
   ],
   "source": [
    "pred_proba = gb.predict_proba(df_vali_x)[:,1]\n",
    "get_clf_eval(df_vali_y, pred, pred_proba)"
   ]
  },
  {
   "cell_type": "code",
   "execution_count": 25,
   "id": "22b99e68",
   "metadata": {},
   "outputs": [],
   "source": [
    "gb = GradientBoostingClassifier(n_estimators=300, learning_rate=0.15)\n",
    "gb.fit(x_train_over,y_train_over)\n",
    "pred = gb.predict(df_vali_x)"
   ]
  },
  {
   "cell_type": "code",
   "execution_count": 26,
   "id": "d157b1b7",
   "metadata": {},
   "outputs": [
    {
     "name": "stdout",
     "output_type": "stream",
     "text": [
      "오차행렬\n",
      "[[3137104  239092]\n",
      " [  75947  125174]]\n",
      "정확도 :0.911934, 정밀도 :0.343633, 재현율 :0.622382, f1-score :0.442791, AUC :0.911132\n"
     ]
    }
   ],
   "source": [
    "pred_proba = gb.predict_proba(df_vali_x)[:,1]\n",
    "get_clf_eval(df_vali_y, pred, pred_proba)"
   ]
  },
  {
   "cell_type": "code",
   "execution_count": 27,
   "id": "d6a148b4",
   "metadata": {},
   "outputs": [],
   "source": [
    "gb = GradientBoostingClassifier(n_estimators=100, learning_rate=0.15,max_depth=3)\n",
    "gb.fit(x_train_over,y_train_over)\n",
    "pred = gb.predict(df_vali_x)"
   ]
  },
  {
   "cell_type": "code",
   "execution_count": 28,
   "id": "c8198e02",
   "metadata": {
    "scrolled": true
   },
   "outputs": [
    {
     "name": "stdout",
     "output_type": "stream",
     "text": [
      "오차행렬\n",
      "[[3157160  219036]\n",
      " [  85091  116030]]\n",
      "정확도 :0.914985, 정밀도 :0.346290, 재현율 :0.576916, f1-score :0.432797, AUC :0.903837\n"
     ]
    }
   ],
   "source": [
    "pred_proba = gb.predict_proba(df_vali_x)[:,1]\n",
    "get_clf_eval(df_vali_y, pred, pred_proba)"
   ]
  },
  {
   "cell_type": "code",
   "execution_count": 20,
   "id": "55c15f6b",
   "metadata": {},
   "outputs": [],
   "source": [
    "gb = GradientBoostingClassifier(n_estimators=200)\n",
    "gb.fit(x_train_over,y_train_over)\n",
    "pred = gb.predict(df_vali_x)"
   ]
  },
  {
   "cell_type": "code",
   "execution_count": 21,
   "id": "c3b04225",
   "metadata": {
    "scrolled": true
   },
   "outputs": [
    {
     "name": "stdout",
     "output_type": "stream",
     "text": [
      "오차행렬\n",
      "[[3156115  220081]\n",
      " [  84144  116977]]\n",
      "정확도 :0.914957, 정밀도 :0.347053, 재현율 :0.581625, f1-score :0.434714, AUC :0.905659\n"
     ]
    }
   ],
   "source": [
    "pred_proba = gb.predict_proba(df_vali_x)[:,1]\n",
    "get_clf_eval(df_vali_y, pred, pred_proba)"
   ]
  },
  {
   "cell_type": "markdown",
   "id": "e27b3dcd",
   "metadata": {},
   "source": [
    "최종 파라미터 {n_estimators=100,learning_rate = 0.15, max_depth=5}"
   ]
  },
  {
   "cell_type": "markdown",
   "id": "4f6fd889",
   "metadata": {},
   "source": [
    "# Voting 앙상블(변수선택 진행 전)"
   ]
  },
  {
   "cell_type": "markdown",
   "id": "25e458e7",
   "metadata": {},
   "source": [
    "## Soft Voting"
   ]
  },
  {
   "cell_type": "code",
   "execution_count": 36,
   "id": "800fdb65",
   "metadata": {},
   "outputs": [],
   "source": [
    "from sklearn.ensemble import VotingClassifier"
   ]
  },
  {
   "cell_type": "code",
   "execution_count": 37,
   "id": "087201b4",
   "metadata": {},
   "outputs": [
    {
     "name": "stdout",
     "output_type": "stream",
     "text": [
      "오차행렬\n",
      "[[3155441  220755]\n",
      " [  77557  123564]]\n",
      "정확도 :0.916610, 정밀도 :0.358865, 재현율 :0.614376, f1-score :0.453080, AUC :0.914257\n"
     ]
    }
   ],
   "source": [
    "log_reg = LogisticRegression(C = 2.5, max_iter=150)\n",
    "xgb_clf = XGBClassifier(colsample_bytree = 0.920424841774389,\n",
    "          learning_rate = 0.2842057203730153, \n",
    "          max_depth = 16, \n",
    "          min_child_weight = 366.3862980089001, \n",
    "          subsample = 0.629757927803605)\n",
    "lgbm = LGBMClassifier()\n",
    "ada_1 = AdaBoostClassifier(n_estimators = 200, learning_rate = 0.2)\n",
    "gbm = GradientBoostingClassifier(n_estimators=100,learning_rate = 0.15, max_depth=5)\n",
    "\n",
    "vo_clf = VotingClassifier(estimators = [('LOG', log_reg), ('XGB', xgb_clf), ('LGBM', lgbm), ('ADA', ada_1), ('GBM', gbm)], voting = 'soft')\n",
    "vo_clf.fit(x_train_over, y_train_over)\n",
    "vopred = vo_clf.predict(df_vali_x)\n",
    "vopred_proba = vo_clf.predict_proba(df_vali_x)[:, 1]\n",
    "get_clf_eval(df_vali_y, vopred, vopred_proba)"
   ]
  },
  {
   "cell_type": "markdown",
   "id": "43dad412",
   "metadata": {},
   "source": [
    "## Hard Voting"
   ]
  },
  {
   "cell_type": "code",
   "execution_count": null,
   "id": "e0e7b739",
   "metadata": {},
   "outputs": [],
   "source": [
    "log_reg = LogisticRegression(C = 2.5, max_iter=150)\n",
    "xgb_clf = XGBClassifier(colsample_bytree = 0.920424841774389,\n",
    "          learning_rate = 0.2842057203730153, \n",
    "          max_depth = 16, \n",
    "          min_child_weight = 366.3862980089001, \n",
    "          subsample = 0.629757927803605)\n",
    "lgbm = LGBMClassifier()\n",
    "ada_1 = AdaBoostClassifier(n_estimators = 200, learning_rate = 0.2)\n",
    "gbm = GradientBoostingClassifier(n_estimators=100,learning_rate = 0.15, max_depth=5)\n",
    "\n",
    "vo_clf = VotingClassifier(estimators = [('LOG', log_reg), ('XGB', xgb_clf), ('LGBM', lgbm), ('ADA', ada_1), ('GBM', gbm)], voting = 'hard')\n",
    "vo_clf.fit(x_train_over, y_train_over)\n",
    "vopred = vo_clf.predict(df_vali_x)"
   ]
  },
  {
   "cell_type": "code",
   "execution_count": 40,
   "id": "a2f88760",
   "metadata": {},
   "outputs": [
    {
     "name": "stdout",
     "output_type": "stream",
     "text": [
      "오차행렬\n",
      "[[3152736  223460]\n",
      " [  78184  122937]]\n",
      "정확도 :0.915679, 정밀도 :0.354902, 재현율 :0.611259, f1-score :0.449070\n"
     ]
    }
   ],
   "source": [
    "get_clf_eval(df_vali_y, vopred)"
   ]
  },
  {
   "cell_type": "markdown",
   "id": "08d0ee24",
   "metadata": {},
   "source": [
    "# 변수 중요도 파악"
   ]
  },
  {
   "cell_type": "markdown",
   "id": "ce41e7b8",
   "metadata": {},
   "source": [
    "가장 성능이 좋은 xgboost모델을 기준으로 변수 선택을 진행했다."
   ]
  },
  {
   "cell_type": "code",
   "execution_count": 37,
   "id": "2e3cfc11",
   "metadata": {},
   "outputs": [
    {
     "data": {
      "text/plain": [
       "<function matplotlib.pyplot.show(close=None, block=None)>"
      ]
     },
     "execution_count": 37,
     "metadata": {},
     "output_type": "execute_result"
    },
    {
     "data": {
      "image/png": "[encoded data removed]",
      "text/plain": [
       "<Figure size 720x720 with 1 Axes>"
      ]
     },
     "metadata": {
      "needs_background": "light"
     },
     "output_type": "display_data"
    }
   ],
   "source": [
    "ftr_importances_values = xgb_clf.feature_importances_\n",
    "ftr_importances = pd.Series(ftr_importances_values, index = x_train_over.columns)\n",
    "ftr_top10 = ftr_importances.sort_values(ascending = False)[:30]\n",
    "plt.figure(figsize = (10,10))\n",
    "plt.title(\"Feature Importances\")\n",
    "sns.barplot(x=ftr_top10, y=ftr_top10.index)\n",
    "plt.show"
   ]
  },
  {
   "cell_type": "code",
   "execution_count": 43,
   "id": "bee0aa65",
   "metadata": {},
   "outputs": [
    {
     "data": {
      "text/plain": [
       "<function matplotlib.pyplot.show(close=None, block=None)>"
      ]
     },
     "execution_count": 43,
     "metadata": {},
     "output_type": "execute_result"
    },
    {
     "data": {
      "image/png": "[encoded data removed]",
      "text/plain": [
       "<Figure size 720x720 with 1 Axes>"
      ]
     },
     "metadata": {
      "needs_background": "light"
     },
     "output_type": "display_data"
    }
   ],
   "source": [
    "ftr_importances_values = xgb_clf.feature_importances_\n",
    "ftr_importances = pd.Series(ftr_importances_values, index = x_train_over.columns)\n",
    "ftr_top10 = ftr_importances.sort_values(ascending = True)[:30]\n",
    "plt.figure(figsize = (10,10))\n",
    "plt.title(\"Feature Importances\")\n",
    "sns.barplot(x=ftr_top10, y=ftr_top10.index)\n",
    "plt.show"
   ]
  },
  {
   "cell_type": "code",
   "execution_count": 48,
   "id": "bf225f0b",
   "metadata": {},
   "outputs": [],
   "source": [
    "fullset = fullset.drop(['income_type_OTHERINCOME', 'loan_group_4', 'income_type_EARNEDINCOME2', 'yearly_income_em_std', \n",
    "                        'purpose_LIVING', 'income_type_PRIVATEBUSINESS', 'employment_type_계약직', 'employment_type_일용직',\n",
    "                        'loan_limit_pp_max', 'credit_score_hm_std', 'rehab_group_D', 'employment_type_정규직', 'purpose_BUYHOUSE',\n",
    "                       'houseown_type_자가', 'rehab_group_C'], axis=1)"
   ]
  },
  {
   "cell_type": "markdown",
   "id": "6627ae54",
   "metadata": {},
   "source": [
    "# 변수선택 이후 단일모델 성능"
   ]
  },
  {
   "cell_type": "code",
   "execution_count": 65,
   "id": "38b7d64f",
   "metadata": {},
   "outputs": [
    {
     "name": "stdout",
     "output_type": "stream",
     "text": [
      "오차행렬\n",
      "[[3125776  250420]\n",
      " [  94576  106545]]\n",
      "정확도 :0.903560, 정밀도 :0.298475, 재현율 :0.529756, f1-score :0.381823, AUC :0.873427\n"
     ]
    }
   ],
   "source": [
    "log_reg = LogisticRegression(C = 2.5, max_iter=150)\n",
    "log_reg.fit(x_train_over, y_train_over)\n",
    "log_regpred = log_reg.predict(df_vali_x)\n",
    "log_regpred_proba = log_reg.predict_proba(df_vali_x)[:, 1]\n",
    "get_clf_eval(df_vali_y, log_regpred, log_regpred_proba)"
   ]
  },
  {
   "cell_type": "code",
   "execution_count": 66,
   "id": "fd904ef7",
   "metadata": {},
   "outputs": [
    {
     "name": "stdout",
     "output_type": "stream",
     "text": [
      "오차행렬\n",
      "[[3132658  243538]\n",
      " [  72645  128476]]\n",
      "정확도 :0.911614, 정밀도 :0.345353, 재현율 :0.638800, f1-score :0.448327, AUC :0.915927\n"
     ]
    }
   ],
   "source": [
    "xgb_clf = XGBClassifier(colsample_bytree = 0.920424841774389,\n",
    "          learning_rate = 0.2842057203730153, \n",
    "          max_depth = 16, \n",
    "          min_child_weight = 366.3862980089001, \n",
    "          subsample = 0.629757927803605)\n",
    "xgb_clf.fit(x_train_over, y_train_over)\n",
    "xgb_clfpred = xgb_clf.predict(df_vali_x)\n",
    "xgb_clfpred_proba = xgb_clf.predict_proba(df_vali_x)[:, 1]\n",
    "get_clf_eval(df_vali_y, xgb_clfpred, xgb_clfpred_proba)"
   ]
  },
  {
   "cell_type": "code",
   "execution_count": 67,
   "id": "f9aeadcb",
   "metadata": {},
   "outputs": [
    {
     "name": "stdout",
     "output_type": "stream",
     "text": [
      "오차행렬\n",
      "[[3106711  269485]\n",
      " [  69799  131322]]\n",
      "정확도 :0.905157, 정밀도 :0.327644, 재현율 :0.652950, f1-score :0.436338, AUC :0.912648\n"
     ]
    }
   ],
   "source": [
    "lgbm = LGBMClassifier(colsample_bytree = 0.7, learning_rate = 0.5, max_depth = 15, subsample = 0.7)\n",
    "lgbm.fit(x_train_over, y_train_over)\n",
    "lgbmpred = lgbm.predict(df_vali_x)\n",
    "lgbmpred_proba = lgbm.predict_proba(df_vali_x)[:, 1]\n",
    "get_clf_eval(df_vali_y, lgbmpred, lgbmpred_proba)"
   ]
  },
  {
   "cell_type": "code",
   "execution_count": 68,
   "id": "6aed7a42",
   "metadata": {},
   "outputs": [
    {
     "name": "stdout",
     "output_type": "stream",
     "text": [
      "오차행렬\n",
      "[[3159507  216689]\n",
      " [  97041  104080]]\n",
      "정확도 :0.912300, 정밀도 :0.324470, 재현율 :0.517499, f1-score :0.398858, AUC :0.886133\n"
     ]
    }
   ],
   "source": [
    "ada = AdaBoostClassifier(n_estimators = 200, learning_rate = 0.2)\n",
    "ada.fit(x_train_over, y_train_over)\n",
    "adapred = ada.predict(df_vali_x)\n",
    "adapred_proba = ada.predict_proba(df_vali_x)[:, 1]\n",
    "get_clf_eval(df_vali_y, adapred, adapred_proba)"
   ]
  },
  {
   "cell_type": "code",
   "execution_count": 69,
   "id": "8b1301fc",
   "metadata": {},
   "outputs": [
    {
     "name": "stdout",
     "output_type": "stream",
     "text": [
      "오차행렬\n",
      "[[3138925  237271]\n",
      " [  75682  125439]]\n",
      "정확도 :0.912517, 정밀도 :0.345838, 재현율 :0.623699, f1-score :0.444952, AUC :0.911940\n"
     ]
    }
   ],
   "source": [
    "gbm = GradientBoostingClassifier(n_estimators=100,learning_rate = 0.15, max_depth=5)\n",
    "gbm.fit(x_train_over, y_train_over)\n",
    "gbmpred = gbm.predict(df_vali_x)\n",
    "gbmpred_proba = gbm.predict_proba(df_vali_x)[:, 1]\n",
    "get_clf_eval(df_vali_y, gbmpred, gbmpred_proba)"
   ]
  },
  {
   "cell_type": "markdown",
   "id": "a620a72c",
   "metadata": {},
   "source": [
    "# 변수선택 이후 SoftVoting"
   ]
  },
  {
   "cell_type": "code",
   "execution_count": 70,
   "id": "7efd50cc",
   "metadata": {},
   "outputs": [
    {
     "name": "stdout",
     "output_type": "stream",
     "text": [
      "오차행렬\n",
      "[[3152698  223498]\n",
      " [  76092  125029]]\n",
      "정확도 :0.916253, 정밀도 :0.358735, 재현율 :0.621661, f1-score :0.454942, AUC :0.915492\n"
     ]
    }
   ],
   "source": [
    "log_reg = LogisticRegression(C = 2.5, max_iter=150)\n",
    "xgb_clf = XGBClassifier(colsample_bytree = 0.920424841774389,\n",
    "          learning_rate = 0.2842057203730153, \n",
    "          max_depth = 16, \n",
    "          min_child_weight = 366.3862980089001, \n",
    "          subsample = 0.629757927803605)\n",
    "lgbm = LGBMClassifier(colsample_bytree = 0.7, learning_rate = 0.5, max_depth = 15, subsample = 0.7)\n",
    "ada_1 = AdaBoostClassifier(n_estimators = 200, learning_rate = 0.2)\n",
    "gbm = GradientBoostingClassifier(n_estimators=100,learning_rate = 0.15, max_depth=5)\n",
    "\n",
    "vo_clf = VotingClassifier(estimators = [('LOG', log_reg), ('XGB', xgb_clf), ('LGBM', lgbm), ('ADA', ada_1), ('GBM', gbm)], voting = 'soft')\n",
    "vo_clf.fit(x_train_over, y_train_over)\n",
    "vopred = vo_clf.predict(df_vali_x)\n",
    "vopred_proba = vo_clf.predict_proba(df_vali_x)[:, 1]\n",
    "get_clf_eval(df_vali_y, vopred, vopred_proba)"
   ]
  },
  {
   "cell_type": "code",
   "execution_count": null,
   "id": "b7c26c98",
   "metadata": {},
   "outputs": [],
   "source": [
    "log_reg = LogisticRegression(C = 2.5, max_iter=150)\n",
    "xgb_clf = XGBClassifier(colsample_bytree = 0.920424841774389,\n",
    "          learning_rate = 0.2842057203730153, \n",
    "          max_depth = 16, \n",
    "          min_child_weight = 366.3862980089001, \n",
    "          subsample = 0.629757927803605)\n",
    "lgbm = LGBMClassifier(colsample_bytree = 0.7, learning_rate = 0.5, max_depth = 15, subsample = 0.7)\n",
    "ada_1 = AdaBoostClassifier(n_estimators = 200, learning_rate = 0.2)\n",
    "gbm = GradientBoostingClassifier(n_estimators=100,learning_rate = 0.15, max_depth=5)\n",
    "\n",
    "vo_clf = VotingClassifier(estimators = [('LOG', log_reg), ('XGB', xgb_clf), ('LGBM', lgbm), ('ADA', ada_1), ('GBM', gbm)], voting = 'hard')\n",
    "vo_clf.fit(x_train_over, y_train_over)"
   ]
  },
  {
   "cell_type": "code",
   "execution_count": 23,
   "id": "801bbff4",
   "metadata": {
    "scrolled": true
   },
   "outputs": [
    {
     "name": "stdout",
     "output_type": "stream",
     "text": [
      "오차행렬\n",
      "[[3154788  221408]\n",
      " [  78008  123113]]\n",
      "정확도 :0.916302, 정밀도 :0.357345, 재현율 :0.612134, f1-score :0.451259\n"
     ]
    }
   ],
   "source": [
    "vopred = vo_clf.predict(df_vali_x)\n",
    "get_clf_eval(df_vali_y, vopred)"
   ]
  },
  {
   "cell_type": "markdown",
   "id": "d16179d6",
   "metadata": {},
   "source": [
    "최종 모델 soft voting"
   ]
  },
  {
   "cell_type": "markdown",
   "id": "ca49b0b9",
   "metadata": {},
   "source": [
    "# 최종 모델 피팅"
   ]
  },
  {
   "cell_type": "code",
   "execution_count": 22,
   "id": "8fd95aae",
   "metadata": {},
   "outputs": [],
   "source": [
    "df_train = fullset[(fullset['Month']== 3)|(fullset['Month']== 4)|(fullset['Month']== 5)] \n",
    "df_test = fullset[fullset['Month']== 6] "
   ]
  },
  {
   "cell_type": "code",
   "execution_count": 23,
   "id": "5518285f",
   "metadata": {},
   "outputs": [],
   "source": [
    "df_train = df_train.drop(['Month'],axis=1)"
   ]
  },
  {
   "cell_type": "code",
   "execution_count": 25,
   "id": "dc358609",
   "metadata": {},
   "outputs": [],
   "source": [
    "df_test = df_test.drop(['Month'],axis=1)"
   ]
  },
  {
   "cell_type": "code",
   "execution_count": 26,
   "id": "7eae15cd",
   "metadata": {},
   "outputs": [
    {
     "data": {
      "text/plain": [
       "loan_limit        0\n",
       "loan_rate         0\n",
       "credit_score      0\n",
       "app_count         0\n",
       "birth_year        0\n",
       "                 ..\n",
       "loan_group_3      0\n",
       "loan_group_4      0\n",
       "KCB_rank          0\n",
       "income_ranking    0\n",
       "is_applied        0\n",
       "Length: 65, dtype: int64"
      ]
     },
     "execution_count": 26,
     "metadata": {},
     "output_type": "execute_result"
    }
   ],
   "source": [
    "df_train.isnull().sum()"
   ]
  },
  {
   "cell_type": "code",
   "execution_count": 27,
   "id": "0abf20b1",
   "metadata": {},
   "outputs": [],
   "source": [
    "df_train_x = df_train.drop(['is_applied'],axis=1)\n",
    "df_train_y = df_train[['is_applied']]"
   ]
  },
  {
   "cell_type": "code",
   "execution_count": 29,
   "id": "2669997e",
   "metadata": {},
   "outputs": [],
   "source": [
    "df_test_x  = df_test.drop(['is_applied'],axis=1)\n",
    "df_test_y  = df_test[['is_applied']]"
   ]
  },
  {
   "cell_type": "code",
   "execution_count": 19,
   "id": "b70caf29",
   "metadata": {},
   "outputs": [],
   "source": [
    "log_reg = LogisticRegression(C = 2.5, max_iter=150)\n",
    "xgb_clf = XGBClassifier(colsample_bytree = 0.920424841774389,\n",
    "          learning_rate = 0.2842057203730153, \n",
    "          max_depth = 16, \n",
    "          min_child_weight = 366.3862980089001, \n",
    "          subsample = 0.629757927803605)\n",
    "lgbm = LGBMClassifier(colsample_bytree = 0.7, learning_rate = 0.5, max_depth = 15, subsample = 0.7)\n",
    "ada_1 = AdaBoostClassifier(n_estimators = 200, learning_rate = 0.2)\n",
    "gbm = GradientBoostingClassifier(n_estimators=100,learning_rate = 0.15, max_depth=5)\n",
    "\n",
    "vo_clf = VotingClassifier(estimators = [('LOG', log_reg), ('XGB', xgb_clf), ('LGBM', lgbm), ('ADA', ada_1), ('GBM', gbm)], voting = 'soft')\n",
    "vo_clf.fit(x_train_over, y_train_over)\n",
    "vopred = vo_clf.predict(df_test_x)"
   ]
  },
  {
   "cell_type": "code",
   "execution_count": null,
   "id": "42c30898",
   "metadata": {},
   "outputs": [],
   "source": []
  },
  {
   "cell_type": "code",
   "execution_count": null,
   "id": "712ac173",
   "metadata": {},
   "outputs": [],
   "source": []
  }
 ],
 "metadata": {
  "kernelspec": {
   "display_name": "Python 3 (ipykernel)",
   "language": "python",
   "name": "python3"
  },
  "language_info": {
   "codemirror_mode": {
    "name": "ipython",
    "version": 3
   },
   "file_extension": ".py",
   "mimetype": "text/x-python",
   "name": "python",
   "nbconvert_exporter": "python",
   "pygments_lexer": "ipython3",
   "version": "3.11.5"
  }
 },
 "nbformat": 4,
 "nbformat_minor": 5
}
